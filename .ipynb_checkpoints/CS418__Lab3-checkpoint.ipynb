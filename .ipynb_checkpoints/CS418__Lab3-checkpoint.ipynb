{
 "cells": [
  {
   "cell_type": "markdown",
   "metadata": {},
   "source": [
    "# Lab 3: Scikit Learn, Regression, Classification, and Clustering"
   ]
  },
  {
   "cell_type": "markdown",
   "metadata": {},
   "source": [
    "Deadline Wednesday 4/29/20  11:59 pm "
   ]
  },
  {
   "cell_type": "markdown",
   "metadata": {},
   "source": [
    "**scikit-learn** is a popular machine learning package that contains a variety of models and tools. \n",
    "\n",
    "All objects within scikitt-learn share a uniform common basic API consisting of 3 interfaces: an _estimator_ interface for building and fitting models, a _predictor_ interface for making predictions, and a _transformer_ interface for converting data.\n",
    "\n",
    ">The _estimator_  interface defines object mechanism and a fit method for learning a model from training data. All supervised and unsupervised learning algorithms are offered as objects implementing this interface. Other machine learning tasks such as _feature extraction_, _feature selection_, and _dimensionality reduction_ are provided as _estimators_. \n",
    "\n",
    "For more information, check the scikit-learn API paper: [https://arxiv.org/pdf/1309.0238v1.pdf]\n",
    "\n",
    "The general form of using models in scikit-learn:\n"
   ]
  },
  {
   "cell_type": "markdown",
   "metadata": {},
   "source": [
    "```\n",
    "clf = someModel( )\n",
    "clf.fit(x_train , y_tain)\n",
    "```"
   ]
  },
  {
   "cell_type": "markdown",
   "metadata": {},
   "source": [
    "For Example: \n",
    "\n",
    "```\n",
    "clf = LinearSVC( )\n",
    "clf.fit(x_train , y_tain)\n",
    "```"
   ]
  },
  {
   "cell_type": "markdown",
   "metadata": {},
   "source": [
    ">The _predictor_ adds a predict method that takes an array x_test and produces predictions for x_test, based on the learned parameters of the _estimator_. In supervised learning, this method typically return predicted labels or values computed by the model. Some unsupervised learning estimators may also implement the predict interface, such as __k-means__, where the predicted values are the cluster labels.\n",
    "\n",
    "```\n",
    "clf.predict(x_test)\n",
    "```"
   ]
  },
  {
   "cell_type": "markdown",
   "metadata": {},
   "source": [
    ">_transform_ method is used to modify or filter data before feeding it to a learning algorithm. It takes some new data as input and outputs a transformed version of that data. Preprocessing, feature selection, feature extraction and dimensionality reduction algorithms are all provided as _transformers_ within the library. \n",
    "\n",
    "This is usually done with __fit_transform__ method. For example: "
   ]
  },
  {
   "cell_type": "markdown",
   "metadata": {},
   "source": [
    "```\n",
    "PCA = RandomizedPCA (n_components = 2) \n",
    "x_train = PCA.fit_transform(x_train)\n",
    "x_test = PCA.fit_transform(x_test)\n",
    "\n",
    "```"
   ]
  },
  {
   "cell_type": "markdown",
   "metadata": {},
   "source": [
    "In the example above, we first __fit__ the training set to find the PC components, then they are transformed. "
   ]
  },
  {
   "cell_type": "markdown",
   "metadata": {},
   "source": [
    "We can summarize the _estimator_ as follows:\n",
    "\n",
    "* In _all estimators_\n",
    "    - `model.fit()` : fit training data. In supervised learning, fit will take two parameters: the data x and labels y. In unsupervised learning, fit will take a single parameter: the data x\n",
    "\n",
    "* In _supervised estimators_\n",
    "    - `model.predict()` : predict the label of new test data for the given model. Predict takes one parameter: the new test data and returns the learned label for each item in the test data \n",
    "    - `model.score()` : Returns the score method for classification or regression methods.\n",
    "\n",
    "* In _unsupervised estimators_\n",
    "\n",
    "    - `model.transform()`: Tranform new data into new basis. Transform takes one parameter: new data and returns a new representation of that data based on the model\n",
    "  \n",
    "    "
   ]
  },
  {
   "cell_type": "markdown",
   "metadata": {},
   "source": []
  },
  {
   "cell_type": "markdown",
   "metadata": {},
   "source": []
  },
  {
   "cell_type": "markdown",
   "metadata": {},
   "source": [
    "\n",
    "### Linear Regression"
   ]
  },
  {
   "cell_type": "markdown",
   "metadata": {},
   "source": [
    "Let's start with a simple linear regression. First we will see an example of a simple linear regression. A simple straight line that fits the data. The formula representing the model is $$y = \\beta_1 x +  \\beta_0$$"
   ]
  },
  {
   "cell_type": "code",
   "execution_count": 1,
   "metadata": {},
   "outputs": [],
   "source": [
    "%matplotlib inline\n",
    "import matplotlib.pyplot as plt\n",
    "import seaborn as sns; sns.set()\n",
    "import numpy as np"
   ]
  },
  {
   "cell_type": "markdown",
   "metadata": {},
   "source": [
    "Let's start by using the following simple data for showing how linear regression works in scikit-learn. Then it will be your turn to build a regression model on a dataset"
   ]
  },
  {
   "cell_type": "code",
   "execution_count": 2,
   "metadata": {},
   "outputs": [
    {
     "data": {
      "text/plain": [
       "<matplotlib.collections.PathCollection at 0x1a1bb21cf8>"
      ]
     },
     "execution_count": 2,
     "metadata": {},
     "output_type": "execute_result"
    },
    {
     "data": {
      "image/png": "[encoded data removed]",
      "text/plain": [
       "<Figure size 432x288 with 1 Axes>"
      ]
     },
     "metadata": {
      "needs_background": "light"
     },
     "output_type": "display_data"
    }
   ],
   "source": [
    "rng = np.random.RandomState(50)\n",
    "\n",
    "x = 10 * rng.rand(80)\n",
    "y = 2 * x - 1 + rng.randn(80)\n",
    "\n",
    "plt.scatter(x,y)"
   ]
  },
  {
   "cell_type": "markdown",
   "metadata": {},
   "source": [
    "After processing your data, the first step is to choose a model. For the dataset above, we are going to pick \"Linear Regression\" model. Simply import your model:"
   ]
  },
  {
   "cell_type": "code",
   "execution_count": 3,
   "metadata": {},
   "outputs": [],
   "source": [
    "from sklearn.linear_model import LinearRegression"
   ]
  },
  {
   "cell_type": "markdown",
   "metadata": {},
   "source": [
    "Next, pick the model hyperparameters"
   ]
  },
  {
   "cell_type": "code",
   "execution_count": 4,
   "metadata": {},
   "outputs": [
    {
     "data": {
      "image/png": "[encoded data removed]",
      "text/plain": [
       "<Figure size 432x288 with 1 Axes>"
      ]
     },
     "metadata": {
      "needs_background": "light"
     },
     "output_type": "display_data"
    }
   ],
   "source": [
    "\n",
    "model = LinearRegression(fit_intercept=True)\n",
    "\n",
    "model.fit(x[:, np.newaxis], y)\n",
    "\n",
    "xfit = np.linspace(0, 10, 1000)\n",
    "yfit = model.predict(xfit[:, np.newaxis])\n",
    "\n",
    "plt.scatter(x, y)\n",
    "plt.plot(xfit, yfit);"
   ]
  },
  {
   "cell_type": "markdown",
   "metadata": {},
   "source": [
    "We can check the model settings: "
   ]
  },
  {
   "cell_type": "code",
   "execution_count": 5,
   "metadata": {},
   "outputs": [
    {
     "name": "stdout",
     "output_type": "stream",
     "text": [
      "1.944535887214308\n",
      "-0.8492545699739527\n"
     ]
    }
   ],
   "source": [
    "print(model.coef_[0])\n",
    "print(model.intercept_)"
   ]
  },
  {
   "cell_type": "markdown",
   "metadata": {},
   "source": [
    "### Linear regression on scikit-learn datasets\n",
    "\n",
    "You can use datasets provided by scikit-learn as well. In the example below, we will apply linear regression to the **diabetes** dataset.\n",
    "\n",
    "In the diabetes datasets, ten baseline variables; age, sex, body mass index, average blood pressure, and six blood serum measurements were obtained for each of n = 442 diabetes patients, as well as the response of interest, a quantitative measure of disease progression one year after baseline."
   ]
  },
  {
   "cell_type": "code",
   "execution_count": 7,
   "metadata": {},
   "outputs": [],
   "source": []
  },
  {
   "cell_type": "code",
   "execution_count": 10,
   "metadata": {},
   "outputs": [
    {
     "name": "stdout",
     "output_type": "stream",
     "text": [
      "Coefficients: \n",
      " [931.31561854]\n",
      "Mean squared error: 3463.51\n",
      "R-squared: 0.35\n"
     ]
    },
    {
     "data": {
      "image/png": "[encoded data removed]",
      "text/plain": [
       "<Figure size 432x288 with 1 Axes>"
      ]
     },
     "metadata": {},
     "output_type": "display_data"
    }
   ],
   "source": [
    "# Importing diabetes dataset\n",
    "from sklearn.datasets import load_diabetes\n",
    "\n",
    "from sklearn.model_selection import train_test_split\n",
    "from sklearn.metrics import mean_squared_error, r2_score\n",
    "\n",
    "\n",
    "# Use only one feature -- the following code creates a 1-dimensional \n",
    "# array containing just the second feature\n",
    "diabetes_X = diabetes.data[:, np.newaxis]\n",
    "diabetes_X_data = diabetes_X[:,:,2]\n",
    "\n",
    "# Split the data into training/testing sets\n",
    "diabetes_X_train,diabetes_X_test , diabetes_y_train, diabetes_y_test = train_test_split(\n",
    "                                     diabetes_X_data, diabetes.target, test_size = 0.15 )\n",
    "\n",
    "\n",
    "# Create linear regression object\n",
    "m1 = LinearRegression()\n",
    "\n",
    "\n",
    "# Train the model with training data \n",
    "m1.fit(diabetes_X_train, diabetes_y_train)\n",
    "\n",
    "# Make predictions on test data \n",
    "diabetes_y_pred = m1.predict(diabetes_X_test)\n",
    "\n",
    "#print the coefficient \n",
    "print('Coefficients: \\n', m1.coef_)\n",
    "\n",
    "#print the mean squared error\n",
    "print('Mean squared error: %.2f'% mean_squared_error(diabetes_y_test, diabetes_y_pred))\n",
    "\n",
    "\n",
    "# print the r-squared\n",
    "print('R-squared: %.2f' % r2_score(diabetes_y_test, diabetes_y_pred))\n",
    "\n",
    "\n",
    "# Plot \n",
    "plt.scatter(diabetes_X_test, diabetes_y_test,  color='red')\n",
    "plt.plot(diabetes_X_test, diabetes_y_pred, color='blue', linewidth=2)\n",
    "\n",
    "plt.xticks(())\n",
    "plt.yticks(())\n",
    "\n",
    "plt.show()\n"
   ]
  },
  {
   "cell_type": "markdown",
   "metadata": {},
   "source": [
    "As you can see, the prediction is not very good. Maybe we can try something different!"
   ]
  },
  {
   "cell_type": "markdown",
   "metadata": {},
   "source": [
    "#### Exercise 3.1\n",
    "\n",
    "Run the linear regression on diabetes data with **all the features** in the dataset. \n",
    "Calculate the mean squared error and compare the two models. Did using all available features improve the performance ?"
   ]
  },
  {
   "cell_type": "code",
   "execution_count": null,
   "metadata": {},
   "outputs": [],
   "source": [
    "#Your code goes here\n",
    "\n"
   ]
  },
  {
   "cell_type": "markdown",
   "metadata": {},
   "source": [
    "Feature selection allows your estimator to perform a better job by decreasing the model complexity and overfitting.\n",
    "scikit-learn provides several feature selection methods such as `SelectKBest` and `RFE`. Here is an example of using `RFE` or [Recursive feature elimination](https://scikit-learn.org/stable/modules/generated/sklearn.feature_selection.RFE.html#sklearn.feature_selection.RFE) on diabetes dataset:"
   ]
  },
  {
   "cell_type": "code",
   "execution_count": 29,
   "metadata": {},
   "outputs": [
    {
     "name": "stdout",
     "output_type": "stream",
     "text": [
      "[9 5 1 4 2 3 7 6 1 8]\n"
     ]
    }
   ],
   "source": [
    "from sklearn.feature_selection import RFE\n",
    "\n",
    "# Note that this piece of code works with training data and model from Exercise 3.1\n",
    "# Either choose the same name for your variables or change the variable names below\n",
    "\n",
    "rfe = RFE(estimator = m2 , n_features_to_select = 2 , step = 1)\n",
    "rfe.fit(diabetes_x_train, diabetes_y1_train)\n",
    "\n",
    "print(rfe.ranking_)"
   ]
  },
  {
   "cell_type": "markdown",
   "metadata": {},
   "source": [
    "#### Exercise 3.2\n",
    "\n",
    "Calculate and print the mean squared error using two features. Which model performs better? (the more complex one with all features, or the simpler model using fewer features)\n",
    "(Note that `RFE` has a predict function you can use)\n",
    "\n"
   ]
  },
  {
   "cell_type": "code",
   "execution_count": null,
   "metadata": {},
   "outputs": [],
   "source": [
    "# Your code goes here \n",
    "\n"
   ]
  },
  {
   "cell_type": "markdown",
   "metadata": {},
   "source": []
  },
  {
   "cell_type": "code",
   "execution_count": null,
   "metadata": {},
   "outputs": [],
   "source": []
  },
  {
   "cell_type": "markdown",
   "metadata": {},
   "source": [
    "### Linear regression on the Boston house price dataset\n",
    "\n",
    "Now it's your turn to perform a linear regression on the Boston housing dataset."
   ]
  },
  {
   "cell_type": "markdown",
   "metadata": {},
   "source": [
    "#### Exercise 3.3\n",
    "\n",
    "Train a set of linear regression models to predict the house prices for boston house dataset. You should use all the available features and train multiple linear regression models for:\n",
    "\n",
    "* a) 30% training, 70% testing \n",
    "* b) 50% training, 50% testing\n",
    "* c) 70% training, 30% testing\n",
    "* d) 80% training, 20% testing\n",
    "\n",
    "Plot the mean squared error for all models. "
   ]
  },
  {
   "cell_type": "markdown",
   "metadata": {},
   "source": [
    " #### Exercise 3.4 \n",
    " \n",
    "Use `RFE` to find the best set of features for prediction. What are they? \n",
    "(Note that in order to find the best set of features for prediction, you need to consider all possible combinations, from 1 to d features, calculate the MSE for each one and pick the set of features that give you the min MSE)\n",
    "\n",
    "\n",
    "Use the same train-test splits from 3.3, to train new models with the best set of features for prediction. Plot the mean squared error for each linear regression models and given train-test split."
   ]
  },
  {
   "cell_type": "code",
   "execution_count": null,
   "metadata": {},
   "outputs": [],
   "source": [
    "from sklearn.datasets import load_boston\n",
    "boston = load_boston()\n",
    "\n",
    "#Your code goes here\n",
    "\n"
   ]
  },
  {
   "cell_type": "code",
   "execution_count": null,
   "metadata": {},
   "outputs": [],
   "source": [
    "#Your code goes here\n",
    "\n"
   ]
  },
  {
   "cell_type": "markdown",
   "metadata": {},
   "source": [
    "### Classification:  SVM \n",
    "\n",
    "Support Vector Machines (SVM) are among the most useful and powerful supervised learning algorithm. Here we are going to look at an example of using SVM models in scikit-learn. Then, it will be your turn to try this model."
   ]
  },
  {
   "cell_type": "code",
   "execution_count": 30,
   "metadata": {},
   "outputs": [
    {
     "data": {
      "image/png": "[encoded data removed]",
      "text/plain": [
       "<Figure size 432x288 with 1 Axes>"
      ]
     },
     "metadata": {
      "needs_background": "light"
     },
     "output_type": "display_data"
    }
   ],
   "source": [
    "# Import make_moons from scikit learn to generate synthetic data\n",
    "from sklearn.datasets import make_moons\n",
    "\n",
    "# 2d classification dataset\n",
    "Xs , ys = make_moons( n_samples = 100,noise = 0.2 , random_state = 0)\n",
    "\n",
    "\n",
    "# train-test split\n",
    "\n",
    "Xs_train , Xs_test, ys_train, ys_test = train_test_split(Xs, ys , test_size = 0.15 )\n",
    "\n",
    "#plot the data\n",
    "colors = np.array(['r' , 'b'])\n",
    "plt.scatter(Xs[:,0] , Xs[:,1]  ,c = colors[ys] )\n",
    "plt.show()\n"
   ]
  },
  {
   "cell_type": "markdown",
   "metadata": {},
   "source": [
    "We will perform both linear and nonlinear SVM on this synthetic dataset:"
   ]
  },
  {
   "cell_type": "code",
   "execution_count": 31,
   "metadata": {},
   "outputs": [],
   "source": [
    "def meshGrid (x , y , h):\n",
    "    '''x is data for x-axis meshgrid\n",
    "       y is data for y-axis meshgrid\n",
    "       h is stepsize\n",
    "    '''\n",
    "    x_min, x_max = x.min() - 1 , x.max() + 1\n",
    "    y_min, y_max = y.min() - 1 , y.max() + 1\n",
    "    xx, yy = np.meshgrid(np.arange(x_min, x_max, h), np.arange(y_min, y_max, h))\n",
    "    \n",
    "    return xx , yy"
   ]
  },
  {
   "cell_type": "code",
   "execution_count": null,
   "metadata": {},
   "outputs": [],
   "source": []
  },
  {
   "cell_type": "code",
   "execution_count": 32,
   "metadata": {},
   "outputs": [
    {
     "name": "stdout",
     "output_type": "stream",
     "text": [
      "             precision    recall  f1-score   support\n",
      "\n",
      "          0       0.88      1.00      0.93         7\n",
      "          1       1.00      0.88      0.93         8\n",
      "\n",
      "avg / total       0.94      0.93      0.93        15\n",
      "\n",
      "[[7 0]\n",
      " [1 7]]\n"
     ]
    },
    {
     "data": {
      "image/png": "[encoded data removed]",
      "text/plain": [
       "<Figure size 432x288 with 1 Axes>"
      ]
     },
     "metadata": {
      "needs_background": "light"
     },
     "output_type": "display_data"
    }
   ],
   "source": [
    "#Import SVM\n",
    "from sklearn import svm\n",
    "\n",
    "from matplotlib.colors import ListedColormap\n",
    "from sklearn import metrics\n",
    "\n",
    "\n",
    "cmap_light = ListedColormap(['#FBBBB9', '#82CAFF']) \n",
    "cmap_bold = ListedColormap(['#CA226B', '#2B65EC']) \n",
    "cmap_test = ListedColormap(['#8E35EF', '#659EC7'])\n",
    "cmap_predict = ListedColormap(['#FCDFFF', '#E0FFFF'])\n",
    "\n",
    "# clf1 is a linear svm classifier\n",
    "clf1 = svm.SVC(kernel = 'linear')\n",
    "\n",
    "# Fit data\n",
    "clf1.fit(Xs_train, ys_train)\n",
    "\n",
    "# Predict\n",
    "ys_predict = clf1.predict(Xs_test)\n",
    "\n",
    "\n",
    "#Display the outcome of classification\n",
    "print(metrics.classification_report(ys_test, ys_predict))\n",
    "print(metrics.confusion_matrix(ys_test, ys_predict))\n",
    "\n",
    "# Display the svm \n",
    "xx , yy = meshGrid(Xs[:,0], Xs[:,1], 0.01)\n",
    "\n",
    "\n",
    "\n",
    "Z = clf1.predict(np.c_[xx.ravel(), yy.ravel()])\n",
    "Z = Z.reshape(xx.shape)\n",
    "\n",
    "plt.figure()\n",
    "plt.contourf(xx, yy, Z, cmap=cmap_light ,levels=[-1, 0, 1] ,alpha = 0.5)\n",
    "\n",
    "# For plotting all data use the following line\n",
    "#plt.scatter(Xs[:, 0], Xs[:, 1], c=ys, cmap=cmap_bold, edgecolor='k', s=50)\n",
    "\n",
    "# For plotting train and test and prediction separatley \n",
    "plt.scatter(Xs_train[:, 0], Xs_train[:, 1], c=ys_train, cmap=cmap_bold,edgecolor='k', s=40)\n",
    "plt.scatter(Xs_test[:, 0], Xs_test[:, 1], alpha=1.0,c = ys_test, cmap=cmap_test,linewidth=1, marker='o', s=90)\n",
    "plt.scatter(Xs_test[:, 0], Xs_test[:, 1], alpha=1.0,c = ys_predict, cmap=cmap_predict ,linewidth=1, marker='X', s=40)\n",
    "plt.xlim(xx.min(), xx.max())\n",
    "plt.ylim(yy.min(), yy.max())\n",
    "\n",
    "plt.show()\n",
    "    "
   ]
  },
  {
   "cell_type": "markdown",
   "metadata": {},
   "source": [
    "Now we apply a non-linear svm classifier"
   ]
  },
  {
   "cell_type": "code",
   "execution_count": 33,
   "metadata": {},
   "outputs": [
    {
     "name": "stdout",
     "output_type": "stream",
     "text": [
      "             precision    recall  f1-score   support\n",
      "\n",
      "          0       0.88      1.00      0.93         7\n",
      "          1       1.00      0.88      0.93         8\n",
      "\n",
      "avg / total       0.94      0.93      0.93        15\n",
      "\n",
      "[[7 0]\n",
      " [1 7]]\n"
     ]
    },
    {
     "data": {
      "image/png": "[encoded data removed]",
      "text/plain": [
       "<Figure size 432x288 with 1 Axes>"
      ]
     },
     "metadata": {
      "needs_background": "light"
     },
     "output_type": "display_data"
    }
   ],
   "source": [
    "# clf2 is a nonlinear svm classifier\n",
    "\n",
    "clf2 = svm.SVC(kernel = 'rbf')\n",
    "\n",
    "\n",
    "# Fit data\n",
    "clf2.fit(Xs_train, ys_train)\n",
    "\n",
    "# Predict\n",
    "ys_predict2 = clf2.predict(Xs_test)\n",
    "\n",
    "\n",
    "\n",
    "#Display the outcome of classification\n",
    "print(metrics.classification_report(ys_test, ys_predict2))\n",
    "print(metrics.confusion_matrix(ys_test, ys_predict2))\n",
    "\n",
    "# Display the svm \n",
    "xx , yy = meshGrid(Xs[:,0], Xs[:,1], 0.01)\n",
    "\n",
    "\n",
    "\n",
    "Z = clf2.predict(np.c_[xx.ravel(), yy.ravel()])\n",
    "Z = Z.reshape(xx.shape)\n",
    "\n",
    "plt.figure()\n",
    "plt.contourf(xx, yy, Z, cmap=cmap_light ,levels=[-1, 0, 1] ,alpha = 0.5)\n",
    "\n",
    "# For plotting all data use the following line\n",
    "#plt.scatter(Xs[:, 0], Xs[:, 1], c=ys, cmap=cmap_bold, edgecolor='k', s=50)\n",
    "\n",
    "# For plotting train and test and prediction separatley \n",
    "plt.scatter(Xs_train[:, 0], Xs_train[:, 1], c=ys_train, cmap=cmap_bold,edgecolor='k', s=40)\n",
    "plt.scatter(Xs_test[:, 0], Xs_test[:, 1], alpha=1.0,c = ys_test, cmap=cmap_test,linewidth=1, marker='o', s=90)\n",
    "plt.scatter(Xs_test[:, 0], Xs_test[:, 1], alpha=1.0,c = ys_predict2, cmap=cmap_predict ,linewidth=1, marker='X', s=40)\n",
    "plt.xlim(xx.min(), xx.max())\n",
    "plt.ylim(yy.min(), yy.max())\n",
    "\n",
    "plt.show()\n",
    "    "
   ]
  },
  {
   "cell_type": "markdown",
   "metadata": {},
   "source": [
    "### SVM on Wine quality dataset"
   ]
  },
  {
   "cell_type": "markdown",
   "metadata": {},
   "source": [
    "#### Exercise 3.5\n",
    "\n",
    "Now it's your turn to work with SVM. The wine data set is loaded below. You can learn more about the dataset by using `datasett.DESCR`. Here, you need to work with the first two features to train your model.\n",
    "\n",
    "* Select the first two features for your X\n",
    "* Split the dataset in two sets of training and testing data. Use 80% of the data for training and 20% for testing\n",
    "* Perform linear and non-linear SVM on the dataset \n",
    "* Display the classification report and accuracy for both models"
   ]
  },
  {
   "cell_type": "code",
   "execution_count": 34,
   "metadata": {},
   "outputs": [],
   "source": [
    "from sklearn.datasets import load_wine\n",
    "\n",
    "Xwine_full , ywine = load_wine(return_X_y = True)\n",
    "\n",
    "#Your code here\n",
    "\n",
    "\n",
    "\n",
    "\n"
   ]
  },
  {
   "cell_type": "markdown",
   "metadata": {},
   "source": [
    "#### Exercise 3.6\n",
    "\n",
    "Scaling features is another step that can affect the performance of your classifier. For the wine data, scale the features using `StandardScaler` and perform linear SVM.  Display the classification report and accuracy. \n",
    "Did scaling data affect the classifier performance?"
   ]
  },
  {
   "cell_type": "code",
   "execution_count": null,
   "metadata": {},
   "outputs": [],
   "source": [
    "from sklearn.preprocessing import StandardScaler\n",
    "\n",
    "scaler = StandardScaler()\n",
    "\n",
    "\n",
    "#Your code here\n",
    "\n",
    "\n",
    "\n",
    "\n"
   ]
  },
  {
   "cell_type": "markdown",
   "metadata": {},
   "source": [
    "#### Exercise 3.7\n",
    "\n",
    "scikit-learn has many other classifiers. Pick another classifier of your choice ( KNN, DecisionTree, NaiveBayes, ...) and apply it to the wine dataset. Display the classification report and accuracy."
   ]
  },
  {
   "cell_type": "code",
   "execution_count": null,
   "metadata": {},
   "outputs": [],
   "source": [
    "#Your code goes here\n",
    "\n",
    "\n"
   ]
  },
  {
   "cell_type": "markdown",
   "metadata": {},
   "source": [
    "### Clustering\n",
    "\n",
    "You have already seen an example of clustering using scikit-learn in lecture. In this section, you will apply `KMeans` algorithm to the wine dataset.\n",
    "\n",
    "#### Exercise 3.8 \n",
    "* First choose the first two features and apply kmeans clustering.\n",
    "* Display cluster evaluation metrics`homogeneity_score` and `completeness_score` (both belong to sklearn.metrics)\n",
    "* Plot the clusters and centroids. You have the \"ground truth\" or labels of your data points, your plot should create a meshgrid to display the decision boundary of your model, and add the datapoints and their true labels. ( This is to observe how good your model performs on the data)"
   ]
  },
  {
   "cell_type": "markdown",
   "metadata": {},
   "source": [
    "Note: For displaying decision boundaries and data points follow these steps:\n",
    "\n",
    "1. Use meshGrid function to get the mesh for your attributes\n",
    "2. Obtain labels for each point in mesh and reshape it. ( Z = kmeans.predict(....))\n",
    "3. Put the results into a color plot\n",
    "    * Plot the colormesh --> plt.pcolormesh\n",
    "    * Plot your data points --> plt.scatter\n",
    "    * Plot the centroids --> plt.scatter\n",
    "    * Set titles, x and y ranges\n",
    "    * plt.show()"
   ]
  },
  {
   "cell_type": "code",
   "execution_count": 37,
   "metadata": {
    "scrolled": true
   },
   "outputs": [
    {
     "data": {
      "image/png": "[encoded data removed]",
      "text/plain": [
       "<Figure size 432x288 with 1 Axes>"
      ]
     },
     "metadata": {
      "needs_background": "light"
     },
     "output_type": "display_data"
    }
   ],
   "source": [
    "from sklearn.cluster import KMeans\n",
    "\n",
    "Xwine_full , ywine = load_wine(return_X_y = True)\n",
    "\n",
    "Xc = Xwine_full [:, :2]\n",
    "\n",
    "colormap = np.array(['r' , 'b' , 'g'])\n",
    "plt.scatter(Xc[:,0],Xc[:,1] , c = colormap[ywine])\n",
    "plt.show()\n",
    "\n"
   ]
  },
  {
   "cell_type": "code",
   "execution_count": null,
   "metadata": {},
   "outputs": [],
   "source": [
    "# Your code here\n",
    "\n"
   ]
  },
  {
   "cell_type": "code",
   "execution_count": null,
   "metadata": {},
   "outputs": [],
   "source": []
  },
  {
   "cell_type": "markdown",
   "metadata": {},
   "source": [
    "#### Exercise 3.9\n",
    "\n",
    "In the previous model you used the first two features: 'Alcohol' and 'Malic acid'. \n",
    "For this exercise, pick features 'Alcohol' and 'OD280/OD315 of diluted wines' (feature #1 and feature #12) as your\n",
    "two attributes and perform the tasks in Exercise 3.8. (cluster, report metrics, draw decision boundaries)\n",
    "\n",
    "Which model performs better?"
   ]
  },
  {
   "cell_type": "code",
   "execution_count": null,
   "metadata": {},
   "outputs": [],
   "source": [
    "# Your code here\n",
    "\n"
   ]
  },
  {
   "cell_type": "code",
   "execution_count": null,
   "metadata": {},
   "outputs": [],
   "source": []
  },
  {
   "cell_type": "code",
   "execution_count": null,
   "metadata": {},
   "outputs": [],
   "source": []
  }
 ],
 "metadata": {
  "kernelspec": {
   "display_name": "Python 3",
   "language": "python",
   "name": "python3"
  },
  "language_info": {
   "codemirror_mode": {
    "name": "ipython",
    "version": 3
   },
   "file_extension": ".py",
   "mimetype": "text/x-python",
   "name": "python",
   "nbconvert_exporter": "python",
   "pygments_lexer": "ipython3",
   "version": "3.7.6"
  }
 },
 "nbformat": 4,
 "nbformat_minor": 2
}
