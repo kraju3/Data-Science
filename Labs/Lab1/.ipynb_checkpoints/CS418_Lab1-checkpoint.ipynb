{
 "cells": [
  {
   "cell_type": "code",
   "execution_count": 2,
   "metadata": {},
   "outputs": [],
   "source": [
    "from IPython.core.interactiveshell import InteractiveShell\n",
    "InteractiveShell.ast_node_interactivity = \"all\""
   ]
  },
  {
   "cell_type": "markdown",
   "metadata": {},
   "source": [
    "# Lab1: Introduction to Jupyter Notebook and Python Review\n",
    "\n",
    "In this lab you will learn how to use Jupyter notebook environment and review some basic concepts in python programming language. Each section contains exercises that you need to complete. We will start with simple concepts and data structure and work our way up to some simple tasks we need in handling data."
   ]
  },
  {
   "cell_type": "markdown",
   "metadata": {},
   "source": [
    "# Jupyter Notebook\n",
    "\n",
    "This page is a Jupyter notebook. You can write programs and run them to see the results, as well as writing text cells just like this one.\n",
    "\n",
    "###  Text cells\n",
    "Each rectangle containing text or code is called a *cell*.\n",
    "You can edit any text cells by double-clicking on them. They are written in Markdown format. If you are not familiar with the syntax, you can check the following link [Markdown Syntax](http://daringfireball.net/projects/markdown/syntax)\n",
    "\n",
    "After you edit a text cell, click the \"run cell\" button at the top that looks like ▶| or hold down `shift` + `return` to confirm any changes. "
   ]
  },
  {
   "cell_type": "markdown",
   "metadata": {},
   "source": [
    "### Code cells\n",
    "Other cells contain code in the Python 3 language. Running a code cell will execute all of the code it contains.\n",
    "\n",
    "To run the code in a code cell, first click on that cell to activate it.  It'll be highlighted with a little green or blue rectangle.  Next, either press ▶| or hold down `shift` + `return`."
   ]
  },
  {
   "cell_type": "markdown",
   "metadata": {},
   "source": [
    "## Running this notebook\n",
    "To run a Jupyter notebook, first navigate to the directory containing the downloaded notebook. From a command line, activate the environment and run:\n",
    "\n",
    "(...) $ jupyter notebook\n",
    "\n",
    "You need to have Python 3 and Jupyter installed on your system. If you don't run the following command:\n",
    "\n",
    "(...) $ conda install jupyter notebook\n"
   ]
  },
  {
   "cell_type": "markdown",
   "metadata": {},
   "source": [
    "## Submitting Lab assignments on Gradescope\n",
    "\n",
    "There are **two** steps to submitting your assignment:\n",
    "1. Submit a pdf of the completed notebook to Gradescope. **Make sure to run your notebook so the cell outputs are visible**. <br>\n",
    "To create a pdf of your work, first convert your .ipynb file to HTML and then convert the HTML file to pdf.\n",
    "\n",
    "\n",
    "2. Submit your .ipynb file to g\n",
    "\n"
   ]
  },
  {
   "cell_type": "markdown",
   "metadata": {},
   "source": [
    "Edit the following cell so that it prints \"Hello World!\" when run:"
   ]
  },
  {
   "cell_type": "code",
   "execution_count": 3,
   "metadata": {},
   "outputs": [
    {
     "name": "stdout",
     "output_type": "stream",
     "text": [
      "Hello World\n"
     ]
    }
   ],
   "source": [
    "print(\"Hello World\")"
   ]
  },
  {
   "cell_type": "markdown",
   "metadata": {},
   "source": [
    "Now that everything is running, let's start with writing a simple function: <br>\n",
    "**Exercise 1.1** Write a python function that returns the sum of squares in range  [1, 2, ..., n ]"
   ]
  },
  {
   "cell_type": "code",
   "execution_count": 9,
   "metadata": {},
   "outputs": [
    {
     "name": "stdout",
     "output_type": "stream",
     "text": [
      "14\n"
     ]
    }
   ],
   "source": [
    "def sumofSquares(n):\n",
    "    return ((n*(n+1)*((2*n)+1))/6)\n",
    "print(sumofSquares(3))"
   ]
  },
  {
   "cell_type": "markdown",
   "metadata": {},
   "source": [
    "**Exercise 1.2** Write a lambda function that returns the sum of squares in range  [1, 2, ..., n ]"
   ]
  },
  {
   "cell_type": "code",
   "execution_count": 11,
   "metadata": {},
   "outputs": [
    {
     "name": "stdout",
     "output_type": "stream",
     "text": [
      "14\n"
     ]
    }
   ],
   "source": [
    "sumOfSquares = lambda n:((n*(n+1)*((2*n)+1))/6)\n",
    "print(sumofSquares(3))"
   ]
  },
  {
   "cell_type": "markdown",
   "metadata": {},
   "source": [
    "### strings\n",
    "Strings are a data type in Python for dealing with text, they are iterable, immutable. <br>\n",
    "\n",
    "**Exercise 2.1** For a given string s, write a function that returns a new string that doubles\n",
    "each character of the original string. For instance, if the user enters _Python_, the output should be\n",
    "_PPyytthhoonn_."
   ]
  },
  {
   "cell_type": "code",
   "execution_count": 12,
   "metadata": {},
   "outputs": [
    {
     "name": "stdout",
     "output_type": "stream",
     "text": [
      "HHeelllloo\n"
     ]
    }
   ],
   "source": [
    "def double_letters (s):\n",
    "    #complete this function\n",
    "    newString=''\n",
    "    for char in s:\n",
    "        newString+=char*2\n",
    "    return newString\n",
    "    \n",
    "    \n",
    "s = 'Hello'\n",
    "print(double_letters(s))    "
   ]
  },
  {
   "cell_type": "markdown",
   "metadata": {},
   "source": [
    "Python has a number of powerful features for manipulating strings.<br>\n",
    "\n",
    "**Exercise 2.2** For the given string s, print the following:\n",
    "\n",
    "1. The total number of characters in the string\n",
    "2. The string repeated 5 times\n",
    "3. The first character of the string \n",
    "4. The first three characters of the string\n",
    "5. The last three characters of the string\n",
    "6. The string backwards\n",
    "7. The string with its first and last characters removed \n",
    "8. The string in all caps\n",
    "9. The string with every a replaced with an e\n",
    "10. Concatenate \"The\" to the string \n"
   ]
  },
  {
   "cell_type": "code",
   "execution_count": 27,
   "metadata": {
    "scrolled": true
   },
   "outputs": [
    {
     "name": "stdout",
     "output_type": "stream",
     "text": [
      "\n"
     ]
    }
   ],
   "source": [
    "s = 'aardvark'\n",
    "\n"
   ]
  },
  {
   "cell_type": "code",
   "execution_count": 36,
   "metadata": {
    "scrolled": true
   },
   "outputs": [
    {
     "name": "stdout",
     "output_type": "stream",
     "text": [
      "8\n",
      "aardvarkaardvarkaardvarkaardvarkaardvark\n",
      "a\n",
      "aar\n",
      "ark\n",
      "kravdraa\n",
      "ardvar\n",
      "AARDVARK\n",
      "eerdverk\n",
      "aardvarkThe\n"
     ]
    }
   ],
   "source": [
    "print(len(s))\n",
    "print(s*5)\n",
    "print(s[0])\n",
    "print(s[0:3])\n",
    "print(s[-3:])\n",
    "print(s[::-1])\n",
    "print(s[1:len(s)-1])\n",
    "print(s.upper())\n",
    "print(s.replace('a','e'))\n",
    "print(s+\"The\")\n"
   ]
  },
  {
   "cell_type": "markdown",
   "metadata": {},
   "source": [
    "### Lists\n",
    "The most fundamental data structure in Python is a list. A list is simply an ordered collection.\n",
    "\n",
    "**Exercise 3.1** For the list given below, do the following tasks:<br>\n",
    " 1. print the first three item \n",
    " 2. print the last item \n",
    " 3. print the last three items\n",
    " 4. print the items with odd index\n",
    " 5. print the list in reversed, you should give at least two methods\n"
   ]
  },
  {
   "cell_type": "code",
   "execution_count": 13,
   "metadata": {},
   "outputs": [
    {
     "name": "stdout",
     "output_type": "stream",
     "text": [
      "['sat', 'sun', 'mon']\n",
      "fri\n",
      "['wed', 'thu', 'fri']\n",
      "['sun', 'tue', 'thu']\n",
      "['fri', 'thu', 'wed', 'tue', 'mon', 'sun', 'sat']\n",
      "['fri', 'thu', 'wed', 'tue', 'mon', 'sun', 'sat']\n"
     ]
    }
   ],
   "source": [
    "days = ['sat','sun','mon','tue','wed','thu','fri']\n",
    "\n",
    "print(days[:3])\n",
    "print(days[-1])\n",
    "print(days[-3:])\n",
    "print(days[1::2])\n",
    "print(days[::-1])#method 1\n",
    "days.reverse()\n",
    "print(days)\n",
    "\n",
    "\n",
    "\n"
   ]
  },
  {
   "cell_type": "markdown",
   "metadata": {},
   "source": [
    "List comprehensions are a powerful way to create lists: "
   ]
  },
  {
   "cell_type": "code",
   "execution_count": null,
   "metadata": {},
   "outputs": [],
   "source": [
    "l = [i for i in range(5)]"
   ]
  },
  {
   "cell_type": "markdown",
   "metadata": {},
   "source": [
    "The example above will create a list _L_ = [0,1,2,3,4] <br>\n",
    "For the next exercise, use list comprehension:<br>\n",
    "\n",
    "**Exercise 3.2** \n",
    "\n",
    " 1. Generates a list _L_ of 15 random numbers between 1 and 100\n",
    " 2. Replace each element in _L_ with its square.\n",
    " 3. Count how many items in _L_ are greater than 60.\n",
    " 4. Count how many items in _L_ are less than 30.\n",
    "\n",
    "\n",
    "\n"
   ]
  },
  {
   "cell_type": "code",
   "execution_count": 29,
   "metadata": {},
   "outputs": [
    {
     "name": "stdout",
     "output_type": "stream",
     "text": [
      "[14, 85, 77, 26, 50, 45, 66, 79, 10, 3, 84, 44, 77, 1, 45]\n",
      "[196, 7225, 5929, 676, 2500, 2025, 4356, 6241, 100, 9, 7056, 1936, 5929, 1, 2025]\n",
      "13\n",
      "2\n"
     ]
    }
   ],
   "source": [
    "from random import seed\n",
    "from random import randint\n",
    "\n",
    "seed(1)\n",
    "randomList = [randint(1,100) for _ in range(15)]\n",
    "print(randomList)\n",
    "randomList = [x**2 for x in randomList]\n",
    "print(randomList)\n",
    "countGreat = sum(map(lambda x : x>60, randomList))\n",
    "countLess = sum(map(lambda x: x<30 , randomList))\n",
    "print(countGreat)\n",
    "print(countLess)"
   ]
  },
  {
   "cell_type": "markdown",
   "metadata": {},
   "source": [
    "### Dictionaries\n",
    "A fundamental data structure which associates values with keys and allows you to quickly retrieve the value corresponding to a given key. <br>\n",
    "\n",
    "**Exercise 4.1** Raccoon University is holding an event to recognize distinguished alumni. For alumni receiving recognition, we have prepared a dictionary that contains their names and class of graduation:"
   ]
  },
  {
   "cell_type": "code",
   "execution_count": 40,
   "metadata": {},
   "outputs": [],
   "source": [
    "rac_alum = {\n",
    "    'Albert': '1996',\n",
    "    'Ada' : '1998',\n",
    "    'Barry': '1996',\n",
    "    'Carlos': '1999',\n",
    "    'Chris': '1996',\n",
    "    'Claire': '1998',\n",
    "    'Jill': '1999',\n",
    "    'Rebecca': '2002', \n",
    "    'Luis' : '2004', \n",
    "    'Leon' : '1998', \n",
    "}\n"
   ]
  },
  {
   "cell_type": "markdown",
   "metadata": {},
   "source": [
    "As we are planning for the event, we recieve some corrections on our guests and we need to update the dictionary: A new guest has RSVP'd, an old guest has changed plans and will not attend, and a correction to one of our entries is necessary. <br>\n",
    "<br>\n",
    "For the given dictionary: \n",
    " 1. Add a new guest named Ashley who graduated in 2004\n",
    " 2. Remove Barry from the dictionary\n",
    " 3. Change Leon's class of graduation to 2004"
   ]
  },
  {
   "cell_type": "code",
   "execution_count": 57,
   "metadata": {},
   "outputs": [],
   "source": [
    "rac_alum = {\n",
    "    'Albert': '1996',\n",
    "    'Ada' : '1998',\n",
    "    'Barry': '1996',\n",
    "    'Carlos': '1999',\n",
    "    'Chris': '1996',\n",
    "    'Claire': '1998',\n",
    "    'Jill': '1999',\n",
    "    'Rebecca': '2002', \n",
    "    'Luis' : '2004', \n",
    "    'Leon' : '1998', \n",
    "}\n"
   ]
  },
  {
   "cell_type": "code",
   "execution_count": 59,
   "metadata": {},
   "outputs": [
    {
     "name": "stdout",
     "output_type": "stream",
     "text": [
      "{'Ashley': '2004', 'Claire': '1998', 'Ada': '1998', 'Carlos': '1999', 'Albert': '1996', 'Leon': '2004', 'Jill': '1999', 'Chris': '1996', 'Luis': '2004', 'Rebecca': '2002'}\n"
     ]
    }
   ],
   "source": [
    "rac_alum['Ashley']='2004'\n",
    "rac_alum.pop('Barry')\n",
    "rac_alum['Leon']='2004'\n",
    "print(rac_alum)\n"
   ]
  },
  {
   "cell_type": "markdown",
   "metadata": {},
   "source": [
    "We want to set the tables based on class of graduation and assign guests to a table corresponding to their class of graduation. For this task, we need to reverse the rac_alum dictionary and create a new one that maps class of graduation to a list of alumni who graduated that year.<br>\n",
    "<br>\n",
    "**Exercise 4.2** Write a function that reverses the keys and values of a dictionary. <br>\n",
    "_Example:_"
   ]
  },
  {
   "cell_type": "code",
   "execution_count": 61,
   "metadata": {},
   "outputs": [
    {
     "name": "stdout",
     "output_type": "stream",
     "text": [
      "{'1999': ['Carlos', 'Jill'], '1998': ['Claire', 'Ada'], '2002': ['Rebecca'], '2004': ['Ashley', 'Leon', 'Luis'], '1996': ['Albert', 'Chris']}\n",
      "{'Detroit': ['Bob'], 'Chicago': ['Alice', 'Adam', 'Jenna']}\n"
     ]
    }
   ],
   "source": [
    "def reverse_dict(oldDict):\n",
    "     newDict = dict()\n",
    "     for k,v in oldDict.items():\n",
    "        newDict.setdefault(v,list()).append(k)\n",
    "     return newDict\n",
    "    \n",
    "\n",
    "print(reverse_dict(rac_alum))\n",
    "print(reverse_dict({\"Alice\": \"Chicago\", \"Bob\": \"Detroit\", \"Jenna\": \"Chicago\", \"Adam\":\"Chicago\"}))\n",
    "# => {\"Chicago\": [\"Alice\", \"Jenna\", \"Adam\"], \"Detroit\": [\"Bob\"]}\n",
    "\n"
   ]
  },
  {
   "cell_type": "markdown",
   "metadata": {},
   "source": [
    "**Exercise 4.3** In the game Scrabble, each letter has a point value associated with it. We use the\n",
    "following dictionary for the letter values:\n"
   ]
  },
  {
   "cell_type": "code",
   "execution_count": 65,
   "metadata": {},
   "outputs": [],
   "source": [
    "points = {'A':1, 'B':3, 'C':3, 'D':2, 'E':1, 'F':4, 'G':2,\n",
    "          'H':4, 'I':1, 'J':8, 'K':5, 'L':1, 'M':3, 'N':1,\n",
    "          'O':1, 'P':3, 'Q':10, 'R':1, 'S':1, 'T':1, 'U':1,\n",
    "          'V':4, 'W':4, 'X':8, 'Y':4, 'Z':10}"
   ]
  },
  {
   "cell_type": "markdown",
   "metadata": {},
   "source": [
    "Write a function that calculates the score of a given word. Use it to find the score of each word in the following list:"
   ]
  },
  {
   "cell_type": "code",
   "execution_count": 66,
   "metadata": {},
   "outputs": [
    {
     "name": "stdout",
     "output_type": "stream",
     "text": [
      "{'airplane': 10, 'statistics': 12, 'zebra': 16, 'algorithm': 15}\n"
     ]
    }
   ],
   "source": [
    "words =['airplane' , 'zebra' , 'statistics','algorithm']\n",
    "\n",
    "def calculateScore(words,points):\n",
    "    scoreKept = dict()\n",
    "    point = 0\n",
    "    for i in words:\n",
    "        for char in i.upper():\n",
    "            point+=points[char]\n",
    "        scoreKept[i]=point\n",
    "        point=0\n",
    "    return scoreKept        \n",
    "\n",
    "print(calculateScore(words,points))"
   ]
  },
  {
   "cell_type": "markdown",
   "metadata": {},
   "source": [
    "We can use dictionaries to count how frequently certain words appear in a text.<br>\n",
    "**Exercise 4.4** In this exercise we will find the frequency of words in _The Yellow Wallpaper_ by _Charlotte Perkins Gilman_. This book and many others are available for free on [Project Gutenberg](http://www.gutenberg.org/). The following line of code will read the entire contents of a file containing _The Yellow Wallpaper_ text and stores it in a string called _data_:\n"
   ]
  },
  {
   "cell_type": "code",
   "execution_count": null,
   "metadata": {},
   "outputs": [],
   "source": [
    "dat = open('Yellow_Wallpaper_PROJECT GUTENBERG.txt').read()"
   ]
  },
  {
   "cell_type": "markdown",
   "metadata": {},
   "source": [
    "In order to analyze this text do the following:<br>\n",
    "\n",
    "1. Turn the whole string to lowercase\n",
    "2. Remove all the punctuations from the text (you can use \"from string import punctuation\")\n",
    "3. Split the string into a list of individual words\n",
    "4. Create a dictionary and count the frequency of words \n",
    "5. Print your dictionary in alphabetical order"
   ]
  },
  {
   "cell_type": "code",
   "execution_count": null,
   "metadata": {},
   "outputs": [],
   "source": []
  },
  {
   "cell_type": "code",
   "execution_count": null,
   "metadata": {},
   "outputs": [],
   "source": []
  },
  {
   "cell_type": "code",
   "execution_count": 43,
   "metadata": {},
   "outputs": [
    {
     "data": {
      "text/plain": [
       "0.07853424801704807"
      ]
     },
     "execution_count": 43,
     "metadata": {},
     "output_type": "execute_result"
    }
   ],
   "source": [
    "import scipy.stats as st\n",
    "st.norm.cdf(-1.415)"
   ]
  },
  {
   "cell_type": "code",
   "execution_count": null,
   "metadata": {},
   "outputs": [],
   "source": []
  },
  {
   "cell_type": "code",
   "execution_count": null,
   "metadata": {},
   "outputs": [],
   "source": []
  },
  {
   "cell_type": "code",
   "execution_count": null,
   "metadata": {},
   "outputs": [],
   "source": []
  }
 ],
 "metadata": {
  "kernelspec": {
   "display_name": "Python 3",
   "language": "python",
   "name": "python3"
  },
  "language_info": {
   "codemirror_mode": {
    "name": "ipython",
    "version": 2
   },
   "file_extension": ".py",
   "mimetype": "text/x-python",
   "name": "python",
   "nbconvert_exporter": "python",
   "pygments_lexer": "ipython2",
   "version": "2.7.16"
  }
 },
 "nbformat": 4,
 "nbformat_minor": 2
}
