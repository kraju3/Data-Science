{
 "cells": [
  {
   "cell_type": "code",
   "execution_count": 1,
   "metadata": {},
   "outputs": [],
   "source": [
    "from IPython.core.interactiveshell import InteractiveShell\n",
    "InteractiveShell.ast_node_interactivity = \"all\""
   ]
  },
  {
   "cell_type": "markdown",
   "metadata": {},
   "source": [
    "# Lab1: Introduction to Jupyter Notebook and Python Review\n",
    "\n",
    "In this lab you will learn how to use Jupyter notebook environment and review some basic concepts in python programming language. Each section contains exercises that you need to complete. We will start with simple concepts and data structure and work our way up to some simple tasks we need in handling data."
   ]
  },
  {
   "cell_type": "markdown",
   "metadata": {},
   "source": [
    "# Jupyter Notebook\n",
    "\n",
    "This page is a Jupyter notebook. You can write programs and run them to see the results, as well as writing text cells just like this one.\n",
    "\n",
    "###  Text cells\n",
    "Each rectangle containing text or code is called a *cell*.\n",
    "You can edit any text cells by double-clicking on them. They are written in Markdown format. If you are not familiar with the syntax, you can check the following link [Markdown Syntax](http://daringfireball.net/projects/markdown/syntax)\n",
    "\n",
    "After you edit a text cell, click the \"run cell\" button at the top that looks like ▶| or hold down `shift` + `return` to confirm any changes. "
   ]
  },
  {
   "cell_type": "markdown",
   "metadata": {},
   "source": [
    "### Code cells\n",
    "Other cells contain code in the Python 3 language. Running a code cell will execute all of the code it contains.\n",
    "\n",
    "To run the code in a code cell, first click on that cell to activate it.  It'll be highlighted with a little green or blue rectangle.  Next, either press ▶| or hold down `shift` + `return`."
   ]
  },
  {
   "cell_type": "markdown",
   "metadata": {},
   "source": [
    "## Running this notebook\n",
    "To run a Jupyter notebook, first navigate to the directory containing the downloaded notebook. From a command line, activate the environment and run:\n",
    "\n",
    "(...) $ jupyter notebook\n",
    "\n",
    "You need to have Python 3 and Jupyter installed on your system. If you don't run the following command:\n",
    "\n",
    "(...) $ conda install jupyter notebook\n"
   ]
  },
  {
   "cell_type": "markdown",
   "metadata": {},
   "source": [
    "## Submitting Lab assignments on Gradescope\n",
    "\n",
    "There are **two** steps to submitting your assignment:\n",
    "1. Submit a pdf of the completed notebook to Gradescope. **Make sure to run your notebook so the cell outputs are visible**. <br>\n",
    "To create a pdf of your work, first convert your .ipynb file to HTML and then convert the HTML file to pdf.\n",
    "\n",
    "\n",
    "2. Submit your .ipynb file to g\n",
    "\n"
   ]
  },
  {
   "cell_type": "markdown",
   "metadata": {},
   "source": [
    "Edit the following cell so that it prints \"Hello World!\" when run:"
   ]
  },
  {
   "cell_type": "code",
   "execution_count": 3,
   "metadata": {},
   "outputs": [
    {
     "name": "stdout",
     "output_type": "stream",
     "text": [
      "Hello World\n"
     ]
    }
   ],
   "source": [
    "print(\"Hello World\")"
   ]
  },
  {
   "cell_type": "markdown",
   "metadata": {},
   "source": [
    "Now that everything is running, let's start with writing a simple function: <br>\n",
    "**Exercise 1.1** Write a python function that returns the sum of squares in range  [1, 2, ..., n ]"
   ]
  },
  {
   "cell_type": "code",
   "execution_count": 9,
   "metadata": {},
   "outputs": [
    {
     "name": "stdout",
     "output_type": "stream",
     "text": [
      "14\n"
     ]
    }
   ],
   "source": [
    "def sumofSquares(n):\n",
    "    return ((n*(n+1)*((2*n)+1))/6)\n",
    "print(sumofSquares(3))"
   ]
  },
  {
   "cell_type": "markdown",
   "metadata": {},
   "source": [
    "**Exercise 1.2** Write a lambda function that returns the sum of squares in range  [1, 2, ..., n ]"
   ]
  },
  {
   "cell_type": "code",
   "execution_count": 11,
   "metadata": {},
   "outputs": [
    {
     "name": "stdout",
     "output_type": "stream",
     "text": [
      "14\n"
     ]
    }
   ],
   "source": [
    "sumOfSquares = lambda n:((n*(n+1)*((2*n)+1))/6)\n",
    "print(sumofSquares(3))"
   ]
  },
  {
   "cell_type": "markdown",
   "metadata": {},
   "source": [
    "### strings\n",
    "Strings are a data type in Python for dealing with text, they are iterable, immutable. <br>\n",
    "\n",
    "**Exercise 2.1** For a given string s, write a function that returns a new string that doubles\n",
    "each character of the original string. For instance, if the user enters _Python_, the output should be\n",
    "_PPyytthhoonn_."
   ]
  },
  {
   "cell_type": "code",
   "execution_count": 12,
   "metadata": {},
   "outputs": [
    {
     "name": "stdout",
     "output_type": "stream",
     "text": [
      "HHeelllloo\n"
     ]
    }
   ],
   "source": [
    "def double_letters (s):\n",
    "    #complete this function\n",
    "    newString=''\n",
    "    for char in s:\n",
    "        newString+=char*2\n",
    "    return newString\n",
    "    \n",
    "    \n",
    "s = 'Hello'\n",
    "print(double_letters(s))    "
   ]
  },
  {
   "cell_type": "markdown",
   "metadata": {},
   "source": [
    "Python has a number of powerful features for manipulating strings.<br>\n",
    "\n",
    "**Exercise 2.2** For the given string s, print the following:\n",
    "\n",
    "1. The total number of characters in the string\n",
    "2. The string repeated 5 times\n",
    "3. The first character of the string \n",
    "4. The first three characters of the string\n",
    "5. The last three characters of the string\n",
    "6. The string backwards\n",
    "7. The string with its first and last characters removed \n",
    "8. The string in all caps\n",
    "9. The string with every a replaced with an e\n",
    "10. Concatenate \"The\" to the string \n"
   ]
  },
  {
   "cell_type": "code",
   "execution_count": 27,
   "metadata": {
    "scrolled": true
   },
   "outputs": [
    {
     "name": "stdout",
     "output_type": "stream",
     "text": [
      "\n"
     ]
    }
   ],
   "source": [
    "s = 'aardvark'\n",
    "\n"
   ]
  },
  {
   "cell_type": "code",
   "execution_count": 36,
   "metadata": {
    "scrolled": true
   },
   "outputs": [
    {
     "name": "stdout",
     "output_type": "stream",
     "text": [
      "8\n",
      "aardvarkaardvarkaardvarkaardvarkaardvark\n",
      "a\n",
      "aar\n",
      "ark\n",
      "kravdraa\n",
      "ardvar\n",
      "AARDVARK\n",
      "eerdverk\n",
      "aardvarkThe\n"
     ]
    }
   ],
   "source": [
    "print(len(s))\n",
    "print(s*5)\n",
    "print(s[0])\n",
    "print(s[0:3])\n",
    "print(s[-3:])\n",
    "print(s[::-1])\n",
    "print(s[1:len(s)-1])\n",
    "print(s.upper())\n",
    "print(s.replace('a','e'))\n",
    "print(s+\"The\")\n"
   ]
  },
  {
   "cell_type": "markdown",
   "metadata": {},
   "source": [
    "### Lists\n",
    "The most fundamental data structure in Python is a list. A list is simply an ordered collection.\n",
    "\n",
    "**Exercise 3.1** For the list given below, do the following tasks:<br>\n",
    " 1. print the first three item \n",
    " 2. print the last item \n",
    " 3. print the last three items\n",
    " 4. print the items with odd index\n",
    " 5. print the list in reversed, you should give at least two methods\n"
   ]
  },
  {
   "cell_type": "code",
   "execution_count": 13,
   "metadata": {},
   "outputs": [
    {
     "name": "stdout",
     "output_type": "stream",
     "text": [
      "['sat', 'sun', 'mon']\n",
      "fri\n",
      "['wed', 'thu', 'fri']\n",
      "['sun', 'tue', 'thu']\n",
      "['fri', 'thu', 'wed', 'tue', 'mon', 'sun', 'sat']\n",
      "['fri', 'thu', 'wed', 'tue', 'mon', 'sun', 'sat']\n"
     ]
    }
   ],
   "source": [
    "days = ['sat','sun','mon','tue','wed','thu','fri']\n",
    "\n",
    "print(days[:3])\n",
    "print(days[-1])\n",
    "print(days[-3:])\n",
    "print(days[1::2])\n",
    "print(days[::-1])#method 1\n",
    "days.reverse()\n",
    "print(days)\n",
    "\n",
    "\n",
    "\n"
   ]
  },
  {
   "cell_type": "markdown",
   "metadata": {},
   "source": [
    "List comprehensions are a powerful way to create lists: "
   ]
  },
  {
   "cell_type": "code",
   "execution_count": null,
   "metadata": {},
   "outputs": [],
   "source": [
    "l = [i for i in range(5)]"
   ]
  },
  {
   "cell_type": "markdown",
   "metadata": {},
   "source": [
    "The example above will create a list _L_ = [0,1,2,3,4] <br>\n",
    "For the next exercise, use list comprehension:<br>\n",
    "\n",
    "**Exercise 3.2** \n",
    "\n",
    " 1. Generates a list _L_ of 15 random numbers between 1 and 100\n",
    " 2. Replace each element in _L_ with its square.\n",
    " 3. Count how many items in _L_ are greater than 60.\n",
    " 4. Count how many items in _L_ are less than 30.\n",
    "\n",
    "\n",
    "\n"
   ]
  },
  {
   "cell_type": "code",
   "execution_count": 29,
   "metadata": {},
   "outputs": [
    {
     "name": "stdout",
     "output_type": "stream",
     "text": [
      "[14, 85, 77, 26, 50, 45, 66, 79, 10, 3, 84, 44, 77, 1, 45]\n",
      "[196, 7225, 5929, 676, 2500, 2025, 4356, 6241, 100, 9, 7056, 1936, 5929, 1, 2025]\n",
      "13\n",
      "2\n"
     ]
    }
   ],
   "source": [
    "from random import seed\n",
    "from random import randint\n",
    "\n",
    "seed(1)\n",
    "randomList = [randint(1,100) for _ in range(15)]\n",
    "print(randomList)\n",
    "randomList = [x**2 for x in randomList]\n",
    "print(randomList)\n",
    "countGreat = sum(map(lambda x : x>60, randomList))\n",
    "countLess = sum(map(lambda x: x<30 , randomList))\n",
    "print(countGreat)\n",
    "print(countLess)"
   ]
  },
  {
   "cell_type": "markdown",
   "metadata": {},
   "source": [
    "### Dictionaries\n",
    "A fundamental data structure which associates values with keys and allows you to quickly retrieve the value corresponding to a given key. <br>\n",
    "\n",
    "**Exercise 4.1** Raccoon University is holding an event to recognize distinguished alumni. For alumni receiving recognition, we have prepared a dictionary that contains their names and class of graduation:"
   ]
  },
  {
   "cell_type": "code",
   "execution_count": 40,
   "metadata": {},
   "outputs": [],
   "source": [
    "rac_alum = {\n",
    "    'Albert': '1996',\n",
    "    'Ada' : '1998',\n",
    "    'Barry': '1996',\n",
    "    'Carlos': '1999',\n",
    "    'Chris': '1996',\n",
    "    'Claire': '1998',\n",
    "    'Jill': '1999',\n",
    "    'Rebecca': '2002', \n",
    "    'Luis' : '2004', \n",
    "    'Leon' : '1998', \n",
    "}\n"
   ]
  },
  {
   "cell_type": "markdown",
   "metadata": {},
   "source": [
    "As we are planning for the event, we recieve some corrections on our guests and we need to update the dictionary: A new guest has RSVP'd, an old guest has changed plans and will not attend, and a correction to one of our entries is necessary. <br>\n",
    "<br>\n",
    "For the given dictionary: \n",
    " 1. Add a new guest named Ashley who graduated in 2004\n",
    " 2. Remove Barry from the dictionary\n",
    " 3. Change Leon's class of graduation to 2004"
   ]
  },
  {
   "cell_type": "code",
   "execution_count": 57,
   "metadata": {},
   "outputs": [],
   "source": [
    "rac_alum = {\n",
    "    'Albert': '1996',\n",
    "    'Ada' : '1998',\n",
    "    'Barry': '1996',\n",
    "    'Carlos': '1999',\n",
    "    'Chris': '1996',\n",
    "    'Claire': '1998',\n",
    "    'Jill': '1999',\n",
    "    'Rebecca': '2002', \n",
    "    'Luis' : '2004', \n",
    "    'Leon' : '1998', \n",
    "}\n"
   ]
  },
  {
   "cell_type": "code",
   "execution_count": 59,
   "metadata": {},
   "outputs": [
    {
     "name": "stdout",
     "output_type": "stream",
     "text": [
      "{'Ashley': '2004', 'Claire': '1998', 'Ada': '1998', 'Carlos': '1999', 'Albert': '1996', 'Leon': '2004', 'Jill': '1999', 'Chris': '1996', 'Luis': '2004', 'Rebecca': '2002'}\n"
     ]
    }
   ],
   "source": [
    "rac_alum['Ashley']='2004'\n",
    "rac_alum.pop('Barry')\n",
    "rac_alum['Leon']='2004'\n",
    "print(rac_alum)\n"
   ]
  },
  {
   "cell_type": "markdown",
   "metadata": {},
   "source": [
    "We want to set the tables based on class of graduation and assign guests to a table corresponding to their class of graduation. For this task, we need to reverse the rac_alum dictionary and create a new one that maps class of graduation to a list of alumni who graduated that year.<br>\n",
    "<br>\n",
    "**Exercise 4.2** Write a function that reverses the keys and values of a dictionary. <br>\n",
    "_Example:_"
   ]
  },
  {
   "cell_type": "code",
   "execution_count": 61,
   "metadata": {},
   "outputs": [
    {
     "name": "stdout",
     "output_type": "stream",
     "text": [
      "{'1999': ['Carlos', 'Jill'], '1998': ['Claire', 'Ada'], '2002': ['Rebecca'], '2004': ['Ashley', 'Leon', 'Luis'], '1996': ['Albert', 'Chris']}\n",
      "{'Detroit': ['Bob'], 'Chicago': ['Alice', 'Adam', 'Jenna']}\n"
     ]
    }
   ],
   "source": [
    "def reverse_dict(oldDict):\n",
    "     newDict = dict()\n",
    "     for k,v in oldDict.items():\n",
    "        newDict.setdefault(v,list()).append(k)\n",
    "     return newDict\n",
    "    \n",
    "\n",
    "print(reverse_dict(rac_alum))\n",
    "print(reverse_dict({\"Alice\": \"Chicago\", \"Bob\": \"Detroit\", \"Jenna\": \"Chicago\", \"Adam\":\"Chicago\"}))\n",
    "# => {\"Chicago\": [\"Alice\", \"Jenna\", \"Adam\"], \"Detroit\": [\"Bob\"]}\n",
    "\n"
   ]
  },
  {
   "cell_type": "markdown",
   "metadata": {},
   "source": [
    "**Exercise 4.3** In the game Scrabble, each letter has a point value associated with it. We use the\n",
    "following dictionary for the letter values:\n"
   ]
  },
  {
   "cell_type": "code",
   "execution_count": 65,
   "metadata": {},
   "outputs": [],
   "source": [
    "points = {'A':1, 'B':3, 'C':3, 'D':2, 'E':1, 'F':4, 'G':2,\n",
    "          'H':4, 'I':1, 'J':8, 'K':5, 'L':1, 'M':3, 'N':1,\n",
    "          'O':1, 'P':3, 'Q':10, 'R':1, 'S':1, 'T':1, 'U':1,\n",
    "          'V':4, 'W':4, 'X':8, 'Y':4, 'Z':10}"
   ]
  },
  {
   "cell_type": "markdown",
   "metadata": {},
   "source": [
    "Write a function that calculates the score of a given word. Use it to find the score of each word in the following list:"
   ]
  },
  {
   "cell_type": "code",
   "execution_count": 66,
   "metadata": {},
   "outputs": [
    {
     "name": "stdout",
     "output_type": "stream",
     "text": [
      "{'airplane': 10, 'statistics': 12, 'zebra': 16, 'algorithm': 15}\n"
     ]
    }
   ],
   "source": [
    "words =['airplane' , 'zebra' , 'statistics','algorithm']\n",
    "\n",
    "def calculateScore(words,points):\n",
    "    scoreKept = dict()\n",
    "    point = 0\n",
    "    for i in words:\n",
    "        for char in i.upper():\n",
    "            point+=points[char]\n",
    "        scoreKept[i]=point\n",
    "        point=0\n",
    "    return scoreKept        \n",
    "\n",
    "print(calculateScore(words,points))"
   ]
  },
  {
   "cell_type": "markdown",
   "metadata": {},
   "source": [
    "We can use dictionaries to count how frequently certain words appear in a text.<br>\n",
    "**Exercise 4.4** In this exercise we will find the frequency of words in _The Yellow Wallpaper_ by _Charlotte Perkins Gilman_. This book and many others are available for free on [Project Gutenberg](http://www.gutenberg.org/). The following line of code will read the entire contents of a file containing _The Yellow Wallpaper_ text and stores it in a string called _data_:\n"
   ]
  },
  {
   "cell_type": "code",
   "execution_count": 3,
   "metadata": {},
   "outputs": [],
   "source": [
    "dat = open('Yellow_Wallpaper_PROJECT_GUTENBERG.txt').read()"
   ]
  },
  {
   "cell_type": "markdown",
   "metadata": {},
   "source": [
    "In order to analyze this text do the following:<br>\n",
    "\n",
    "1. Turn the whole string to lowercase\n",
    "2. Remove all the punctuations from the text (you can use \"from string import punctuation\")\n",
    "3. Split the string into a list of individual words\n",
    "4. Create a dictionary and count the frequency of words \n",
    "5. Print your dictionary in alphabetical order"
   ]
  },
  {
   "cell_type": "code",
   "execution_count": 8,
   "metadata": {},
   "outputs": [
    {
     "name": "stdout",
     "output_type": "stream",
     "text": [
      "{\n",
      "a:143,  able:5,  about:25,  absolutely:1,  absorb:1,  absurd:2,  account:1,  across:1,  acts:1,  adds:1,  admirable:1,  advice:1,  affected:1,  afraid:2,  after:5,  afterwards:1,  again:5,  air:5,  airy:2,  ale:1,  alive:1,  all:40,  almost:3,  alone:8,  along:1,  already:1,  also:2,  alternation:1,  always:12,  am:23,  amazement:1,  an:9,  analyze:1,  ancestral:1,  and:288,  angles:1,  angry:5,  another:6,  any:10,  anybody:3,  anyhow:1,  anything:3,  appetite:3,  arabesque:1,  arbors:4,  are:28,  arms:2,  around:9,  arranged:1,  artistic:1,  as:49,  ask:2,  asked:4,  asking:1,  asks:1,  asleep:2,  assure:1,  assures:1,  astonish:1,  at:36,  atrocious:1,  awake:3,  away:11,  awful:2,  awfully:1,  axe:1,  baby:4,  back:6,  bad:7,  bare:1,  bargain:1,  barred:2,  bars:3,  basely:1,  bay:1,  be:31,  beautiful:4,  because:4,  becomes:1,  bed:6,  beds:2,  bedstead:3,  been:6,  before:10,  beg:1,  began:3,  begin:1,  beginning:1,  behind:10,  believe:8,  believed:1,  belonging:1,  besides:3,  betrayed:1,  better:10,  big:4,  bit:7,  blackberry:1,  blame:1,  blank:1,  bless:1,  blessed:2,  bloated:1,  boat:1,  body:1,  bordered:1,  bottom:1,  box:1,  boys:1,  breadth:2,  breadths:2,  break:1,  bright:1,  bring:1,  broken:2,  brother:3,  budding:1,  bulbous:2,  burden:1,  bureau:1,  burning:1,  bushes:1,  but:74,  buttercups:1,  by:25,  call:2,  called:1,  came:5,  can:31,  candlelight:1,  cannot:4,  canvas:1,  care:4,  careful:3,  carriage:1,  carried:1,  case:4,  cases:2,  caught:4,  cautioned:1,  cellar:1,  centre:1,  certain:1,  chair:2,  change:1,  changed:1,  changes:4,  charlotte:1,  chase:1,  cheaply:1,  check:1,  child:4,  children:6,  chintz:1,  clean:1,  clearer:1,  clearly:1,  clever:1,  climb:2,  closer:1,  clothes:1,  cloud:1,  co:1,  cod:1,  cold:1,  colonial:1,  color:4,  columns:1,  come:3,  comes:6,  comfort:3,  comfortable:1,  commands:1,  commit:1,  committing:1,  common:1,  companionship:1,  company:1,  comparative:1,  conclusion:1,  condition:3,  confess:1,  confuse:1,  confusion:1,  congenial:1,  connect:1,  conscientiously:1,  conspicuous:1,  constant:1,  constantly:1,  contradictions:1,  control:3,  convinced:1,  convolutions:1,  corner:2,  could:12,  couldn:1,  count:1,  country:3,  course:12,  cousin:2,  covered:2,  crawl:2,  crawling:1,  crawls:1,  creep:8,  creeping:9,  creeps:2,  creepy:1,  cried:1,  cross:1,  cry:2,  crying:2,  cultivates:1,  curves:2,  damp:1,  danger:1,  dangerous:1,  dark:1,  darling:4,  day:8,  daylight:5,  days:2,  daytime:4,  dead:1,  deal:5,  dear:11,  dearly:1,  debased:1,  deceit:1,  decide:1,  declare:1,  declared:1,  deep:1,  defiance:1,  delicious:1,  delirium:1,  depends:1,  depressing:1,  depression:1,  derision:1,  design:2,  desperate:1,  destroy:1,  determine:1,  determined:1,  developments:1,  diagonally:1,  did:13,  didn:4,  different:1,  dim:2,  dining:1,  dinner:1,  direction:2,  directly:1,  disagree:1,  discouraging:1,  discovered:1,  distance:1,  distinguish:1,  distraction:1,  disturb:1,  dizzy:1,  do:17,  doctor:1,  does:10,  doing:4,  don:29,  done:2,  door:7,  down:29,  downstairs:4,  draught:1,  dreadfully:2,  dream:1,  dress:1,  due:1,  dug:1,  dull:2,  duty:1,  dwells:1,  each:3,  earnest:1,  easier:2,  east:1,  eat:1,  effort:3,  elms:1,  else:5,  empty:2,  end:1,  endless:1,  enduring:1,  english:1,  enjoy:1,  enjoys:1,  enough:11,  enter:1,  entertain:1,  entertainment:1,  enthusiastic:1,  equal:1,  escape:1,  estate:2,  even:11,  evening:3,  ever:7,  everlastingness:1,  every:5,  everything:3,  everywhere:1,  except:1,  excited:1,  excitement:1,  exciting:1,  excuses:1,  exercise:3,  exhaust:2,  expect:1,  expects:1,  expression:2,  extreme:1,  eye:1,  eyes:6,  face:1,  fact:1,  fade:1,  faded:2,  faint:1,  fainted:1,  fairly:1,  faith:1,  fall:1,  false:1,  fancies:3,  fancy:6,  far:3,  fascinating:1,  fashioned:2,  fast:4,  fastened:1,  faster:4,  fate:1,  fatuity:1,  feel:11,  feeling:1,  felicity:1,  felt:4,  few:2,  fierce:1,  figure:2,  figures:1,  finally:1,  find:8,  finish:1,  finished:1,  fire:1,  first:7,  fits:1,  flamboyant:1,  flesh:1,  floor:4,  florid:1,  flourishes:1,  flourishing:1,  flowers:1,  fog:1,  follow:4,  following:2,  fond:2,  food:1,  foolish:1,  for:53,  forbidden:1,  forgot:1,  form:1,  formless:1,  fortunate:2,  forward:1,  foul:1,  found:6,  fourth:1,  fretful:1,  friend:2,  friends:1,  frieze:1,  frighten:1,  from:8,  front:6,  full:3,  fun:1,  fungus:3,  funny:2,  furniture:4,  gaining:2,  galore:1,  garden:5,  gardeners:1,  gate:1,  gates:1,  gathered:1,  gentle:1,  gentlest:1,  gently:1,  get:24,  gets:2,  getting:8,  ghostliness:1,  gilman:1,  girl:2,  give:3,  glad:1,  gloomily:1,  gnarly:1,  gnawed:1,  go:15,  god:1,  goes:2,  going:2,  gone:4,  good:16,  goose:1,  got:7,  gotten:1,  gouged:1,  grape:2,  great:11,  greater:1,  green:1,  greenhouses:1,  grotesques:1,  ground:1,  growths:1,  guess:1,  gymnasium:1,  gymnastics:1,  habit:3,  had:23,  hair:1,  half:3,  hall:1,  halls:1,  hand:3,  hands:1,  hanging:1,  hangings:1,  happy:1,  hard:3,  hardly:1,  has:8,  hate:2,  hated:2,  hates:2,  hatred:1,  haunted:1,  have:34,  haven:1,  having:1,  he:58,  head:5,  headlong:1,  heads:3,  hear:1,  heard:2,  heart:1,  heavy:3,  hedges:1,  height:1,  heirs:2,  help:3,  henry:2,  her:22,  here:17,  hereditary:1,  herself:2,  hidden:1,  hideous:1,  hides:1,  hiding:1,  high:4,  higher:1,  him:18,  hinder:1,  his:9,  hold:1,  home:2,  hop:1,  hopes:1,  horizontal:1,  horizontally:1,  horribly:1,  horrid:2,  horror:2,  hour:4,  hours:3,  house:9,  housekeeper:1,  houses:1,  hovering:1,  how:9,  however:1,  hug:1,  humiliating:1,  hurrah:1,  hurt:1,  husband:1,  hypothesis:1,  hysterical:1,  i:319,  idea:1,  ideas:2,  if:28,  imaginative:1,  imagine:1,  immovable:1,  impertinence:1,  impressionable:1,  improper:1,  improve:2,  in:93,  inanimate:1,  indeed:2,  inexplicable:1,  influence:1,  infuriating:1,  inharmonious:1,  innocent:2,  instant:1,  instead:1,  intact:1,  intense:1,  intention:1,  interesting:1,  interests:1,  interminable:2,  into:6,  irritant:1,  irritate:2,  irritating:1,  is:132,  isn:1,  isolated:1,  it:173,  its:1,  itself:1,  jane:1,  jennie:12,  john:45,  joints:1,  journeys:1,  judge:1,  julia:2,  july:1,  jump:1,  just:19,  keep:3,  keeps:3,  kept:4,  key:3,  kind:4,  kindly:1,  knew:1,  knobs:1,  knocks:1,  know:15,  knows:3,  lack:2,  laid:1,  lame:2,  lamplight:1,  lane:3,  large:1,  last:4,  laugh:2,  laughed:2,  laughs:2,  law:1,  laws:1,  lay:1,  lazy:1,  lead:1,  leaf:2,  lease:1,  least:3,  leave:4,  left:1,  legal:1,  less:1,  let:9,  lets:2,  letting:1,  lie:7,  life:3,  lift:1,  light:2,  lights:2,  like:21,  line:1,  lined:1,  little:20,  live:2,  liver:1,  living:1,  ll:3,  lock:2,  locked:1,  lolls:1,  long:12,  look:7,  looked:6,  looking:2,  looks:3,  lose:2,  lot:2,  lots:2,  lovely:4,  loves:2,  loving:2,  low:3,  lucky:1,  lurid:1,  lying:1,  m:7,  made:2,  make:4,  makes:8,  making:2,  man:2,  manner:2,  mansion:1,  many:3,  mark:1,  marked:1,  marriage:1,  mary:1,  mastered:1,  match:1,  matter:2,  mattress:1,  may:2,  me:70,  meadows:1,  meal:1,  mean:2,  meant:2,  meat:1,  meet:1,  mention:1,  mere:1,  merrily:1,  met:1,  might:3,  miles:1,  mind:6,  mine:2,  misconstrued:1,  mitchell:1,  moment:1,  moments:1,  months:2,  moon:3,  moonlight:6,  mopboard:1,  more:14,  morning:3,  morrow:2,  most:8,  mother:1,  move:4,  moving:1,  much:16,  musn:1,  must:10,  my:40,  myself:10,  mysterious:1,  nailed:2,  nap:1,  near:2,  nearly:1,  neck:1,  need:1,  neglect:1,  nellie:1,  nervous:8,  nervousness:1,  never:10,  new:2,  nice:1,  night:13,  nights:1,  no:14,  nobody:5,  nor:2,  normal:1,  not:44,  nothing:7,  notice:2,  noticed:1,  now:21,  numerous:2,  nursery:5,  occasionally:1,  occupy:1,  odor:2,  of:108,  off:17,  often:3,  oh:1,  oil:1,  old:4,  on:30,  once:4,  one:33,  ones:1,  only:14,  open:4,  opened:1,  openly:1,  opposition:2,  optic:1,  or:14,  orange:1,  order:2,  ordinary:1,  other:6,  others:1,  otherwise:1,  ought:1,  our:4,  out:30,  outlines:1,  outrageous:1,  outside:5,  over:14,  own:2,  pains:1,  paint:1,  paper:23,  parlor:1,  particularly:1,  patches:1,  patent:1,  path:2,  paths:2,  patience:1,  patient:1,  pattern:24,  patterns:1,  peculiar:1,  peculiarity:1,  peeled:2,  people:6,  perfect:2,  perhaps:5,  perkins:1,  perplexing:1,  perseverance:1,  person:1,  personally:2,  phosphates:1,  phosphites:1,  physician:4,  piazza:1,  pick:1,  piece:2,  pillow:1,  place:5,  places:3,  plain:2,  plantain:2,  plaster:1,  playground:1,  playroom:1,  pleasant:1,  please:2,  pleased:1,  pleases:1,  plunge:1,  plunges:1,  pointless:1,  poor:1,  porch:1,  positively:1,  possible:1,  possibly:1,  pound:1,  power:1,  practical:1,  prescription:1,  press:1,  pretended:1,  pretty:3,  principle:1,  private:1,  privately:1,  profession:1,  professional:1,  pronounced:1,  proper:1,  proudly:1,  provoke:1,  provoking:1,  pulled:3,  pure:1,  push:1,  put:4,  puzzling:1,  queer:3,  querulous:1,  questions:2,  quickly:1,  quiet:7,  quietly:1,  quite:8,  radiation:2,  rain:1,  ran:1,  rare:1,  ravages:1,  ray:1,  reach:5,  read:2,  ready:1,  real:2,  realize:1,  really:14,  reason:2,  reasonable:1,  recurrent:1,  relatives:1,  relief:3,  relieve:1,  remember:1,  reminding:1,  renovate:1,  rental:1,  repairs:1,  repaper:1,  repeated:1,  repellant:1,  repetition:1,  report:1,  reproachful:1,  rest:4,  restrained:1,  revolting:1,  ride:1,  right:2,  rings:1,  riotous:1,  road:5,  romanesque:1,  romantic:1,  room:24,  rooms:1,  rope:2,  roses:2,  round:7,  rubbed:1,  run:2,  runs:2,  rush:1,  s:10,  safe:1,  said:30,  sake:4,  same:7,  sat:2,  satisfies:1,  save:1,  saw:5,  say:6,  says:11,  schedule:1,  school:1,  scientific:1,  scoffs:1,  score:1,  scratched:1,  seats:1,  seaweeds:1,  secretly:1,  secure:1,  securely:1,  see:24,  seem:1,  seemed:3,  seems:4,  seen:2,  sees:1,  seldom:1,  self:2,  send:1,  sense:1,  sensitive:1,  separate:1,  separately:1,  sequence:1,  serious:3,  seriously:1,  servants:1,  several:2,  shade:1,  shaded:4,  shades:1,  shadow:1,  shady:2,  shake:2,  shakes:3,  shall:6,  shame:1,  shan:1,  shape:1,  shapes:1,  she:33,  shines:3,  shining:1,  shook:2,  shoots:2,  short:2,  should:7,  shoulder:2,  showed:1,  shriek:1,  shut:1,  sick:4,  sickly:1,  side:1,  sideways:1,  silenced:1,  silly:3,  sin:1,  since:1,  sister:2,  sit:1,  sitting:1,  skulking:1,  slanting:1,  slaps:1,  sleep:10,  sleeping:1,  slept:1,  slight:1,  slow:1,  slowly:2,  sly:2,  smell:5,  smelled:1,  smooch:2,  smooches:1,  smoothly:1,  smouldering:1,  so:67,  society:1,  softly:1,  solely:1,  some:5,  somersault:1,  something:9,  sometimes:9,  somewhat:1,  soon:2,  sort:2,  sorts:1,  soul:1,  sound:1,  special:1,  spent:1,  spite:5,  splintered:1,  spoils:1,  spot:1,  spots:3,  sprawling:2,  sprouting:1,  stained:1,  stairs:3,  stand:3,  standing:4,  stands:1,  stare:1,  start:1,  started:1,  stay:1,  stealing:1,  step:1,  steps:1,  stern:1,  sticketh:1,  sticks:1,  still:5,  stimulating:1,  stimulus:1,  stir:1,  stood:1,  stooping:1,  stopped:2,  store:1,  story:1,  straight:4,  strange:2,  strangely:1,  strangest:1,  strangled:1,  strangles:2,  streak:1,  strength:3,  strikes:1,  string:1,  strip:1,  stripped:1,  strong:2,  study:1,  studying:1,  sub:2,  subdued:1,  subtlest:1,  such:14,  suddenly:3,  suffer:2,  suicide:1,  sulk:1,  sulphur:1,  summer:1,  sun:6,  sunlight:1,  sunshine:1,  superstition:1,  suppose:4,  sure:4,  surprise:1,  suspect:1,  symmetry:1,  t:53,  take:12,  taken:1,  takes:2,  talk:6,  tear:1,  teeth:1,  tell:5,  telling:1,  temperament:1,  temporary:1,  tendency:2,  terror:1,  than:10,  that:110,  the:241,  their:2,  them:8,  themselves:1,  then:16,  there:47,  these:3,  they:14,  thing:14,  things:12,  think:16,  thinks:1,  this:29,  those:9,  though:3,  thought:4,  thousandth:1,  three:5,  through:7,  thrown:1,  tie:1,  till:3,  time:11,  times:2,  tint:1,  tired:7,  tiresome:1,  to:146,  toadstool:1,  toadstools:1,  together:1,  told:3,  tonics:2,  too:12,  took:3,  top:2,  torn:1,  torturing:1,  touched:2,  touches:1,  town:3,  toy:1,  tramples:1,  trees:2,  tremens:1,  tried:5,  tries:1,  trip:1,  trouble:1,  troubles:1,  trust:2,  try:4,  trying:4,  turn:4,  turned:2,  turning:1,  turns:2,  twilight:1,  two:5,  unblinking:1,  uncertain:1,  unclean:1,  uncomfortable:1,  under:9,  undertaking:1,  undoubtedly:1,  undulating:1,  ungrateful:1,  unheard:1,  unreasonably:1,  unreliable:1,  untenanted:1,  until:4,  up:14,  upon:2,  upside:2,  upstairs:1,  us:1,  use:3,  used:11,  value:1,  ve:5,  velvet:1,  verily:1,  very:22,  vicious:2,  view:1,  village:1,  vines:1,  visit:2,  voice:2,  waddling:2,  wait:1,  wake:2,  waken:1,  walk:1,  walking:2,  wall:4,  wallowing:1,  wallpaper:13,  walls:3,  want:11,  wanted:3,  wars:1,  was:37,  wasn:3,  watch:5,  watched:3,  watching:1,  waves:1,  way:8,  ways:1,  we:19,  weakness:2,  weather:1,  week:3,  weeks:3,  weigh:2,  weir:1,  well:15,  went:2,  were:5,  wharf:1,  what:17,  when:25,  where:6,  whether:3,  which:2,  whichever:1,  while:3,  whim:1,  white:1,  whitewashed:1,  who:2,  whole:2,  why:13,  will:13,  wind:1,  winding:1,  window:8,  windows:9,  wine:1,  wink:1,  wise:2,  wish:5,  wished:3,  with:28,  without:2,  woke:1,  woman:8,  women:3,  won:3,  wonder:8,  wonderfully:1,  word:2,  work:4,  works:1,  worlds:1,  worse:4,  worst:2,  worth:1,  would:27,  wouldn:4,  write:5,  writing:4,  yards:1,  years:1,  yellow:9,  yet:2,  you:41,  young:1,  your:7,  yours:1,  }\n"
     ]
    }
   ],
   "source": [
    "import string\n",
    "\n",
    "\n",
    "def countOccurences(dat):\n",
    "    punctuations = string.punctuation + '—”’“'\n",
    "\n",
    "    newString=\"\"\n",
    "    for char in dat:\n",
    "        if char not in punctuations:\n",
    "            newString+=char\n",
    "        else:\n",
    "            newString+=\" \"\n",
    "\n",
    "    refinedList= newString.lower().translate(str.maketrans(\" \",\" \",punctuations)).split()\n",
    "\n",
    "    bookDict = dict()\n",
    "    for word in refinedList:\n",
    "        if word not in bookDict:\n",
    "            bookDict.setdefault(word,1)\n",
    "        else:\n",
    "            bookDict[word]+=1\n",
    "        \n",
    "    print(\"{\")\n",
    "    for word in sorted(bookDict):\n",
    "        print(f\"{word}:{bookDict[word]}, \",end =\" \")\n",
    "\n",
    "    print(\"}\")    \n",
    "\n",
    "\n",
    "countOccurences(dat)\n",
    "\n"
   ]
  },
  {
   "cell_type": "code",
   "execution_count": null,
   "metadata": {},
   "outputs": [],
   "source": []
  },
  {
   "cell_type": "code",
   "execution_count": 43,
   "metadata": {},
   "outputs": [
    {
     "data": {
      "text/plain": [
       "0.07853424801704807"
      ]
     },
     "execution_count": 43,
     "metadata": {},
     "output_type": "execute_result"
    }
   ],
   "source": [
    "import scipy.stats as st\n",
    "st.norm.cdf(-1.415)"
   ]
  },
  {
   "cell_type": "code",
   "execution_count": null,
   "metadata": {},
   "outputs": [],
   "source": []
  },
  {
   "cell_type": "code",
   "execution_count": null,
   "metadata": {},
   "outputs": [],
   "source": []
  },
  {
   "cell_type": "code",
   "execution_count": null,
   "metadata": {},
   "outputs": [],
   "source": []
  }
 ],
 "metadata": {
  "kernelspec": {
   "display_name": "Python 3",
   "language": "python",
   "name": "python3"
  },
  "language_info": {
   "codemirror_mode": {
    "name": "ipython",
    "version": 3
   },
   "file_extension": ".py",
   "mimetype": "text/x-python",
   "name": "python",
   "nbconvert_exporter": "python",
   "pygments_lexer": "ipython3",
   "version": "3.7.6"
  }
 },
 "nbformat": 4,
 "nbformat_minor": 2
}
