{
 "cells": [
  {
   "cell_type": "markdown",
   "metadata": {},
   "source": [
    "## NumPy (Numerical Python)\n",
    "\n",
    "Efficient storage and manipulation of numerical arrays is fundamental in data science. Python NumPy package provides specialized tools for handling numerical arrays.  \n",
    "The core data type in Numpy is the ndarray, which enables fast and space-efficient multidimensional array processing.\n",
    "NumPy has many features that won't be covered here. But we are going to cover some basic data types and operations within numpy.\n",
    "\n",
    "More detailed documentation can be found at:\n",
    "http://www.numpy.org"
   ]
  },
  {
   "cell_type": "markdown",
   "metadata": {},
   "source": [
    "### Readings \n",
    "\n",
    "Chapter 2 from _Python Data Science Handbook_ by Jake VanderPlas"
   ]
  },
  {
   "cell_type": "code",
   "execution_count": 2,
   "metadata": {},
   "outputs": [],
   "source": [
    "from IPython.core.interactiveshell import InteractiveShell\n",
    "InteractiveShell.ast_node_interactivity = \"all\""
   ]
  },
  {
   "cell_type": "markdown",
   "metadata": {},
   "source": [
    "NumPy arrays are much more efficient compare to lists.  They are fixed types as oppose to list flexible (dynamic-type).\n",
    "\n",
    "\n",
    "![title](img/pyds.png)"
   ]
  },
  {
   "cell_type": "code",
   "execution_count": 5,
   "metadata": {},
   "outputs": [
    {
     "data": {
      "text/plain": [
       "[bool, str, float, int]"
      ]
     },
     "execution_count": 5,
     "metadata": {},
     "output_type": "execute_result"
    }
   ],
   "source": [
    "#Lists are flexible (dynamic-type) but this flexibility comes at a price of efficiency \n",
    "l0 = [True, \"54\" , 3.00, 9]\n",
    "[type(item) for item in l0]"
   ]
  },
  {
   "cell_type": "code",
   "execution_count": 4,
   "metadata": {},
   "outputs": [],
   "source": [
    "# First, import numpy\n",
    "\n",
    "import numpy as np \n",
    "\n",
    "# we can use np.array to create arrays from Python lists\n",
    "\n",
    "l1 = [1,3,5,7] \n",
    "l2 = [2,4,6,8]\n",
    "\n",
    "\n",
    "#Create N*1 or N*M arrays\n",
    "arr1 = np.array(l1)\n",
    "arr2 = np.array([l1,  l2])\n",
    "\n"
   ]
  },
  {
   "cell_type": "code",
   "execution_count": 8,
   "metadata": {},
   "outputs": [
    {
     "name": "stdout",
     "output_type": "stream",
     "text": [
      "4\n",
      "2 4\n"
     ]
    }
   ],
   "source": [
    "#Basic info to describe the ndarrays\n",
    "\n",
    "print(arr1.shape[0])\n",
    "\n",
    "print(arr2.shape[0] , arr2.shape[1])"
   ]
  },
  {
   "cell_type": "code",
   "execution_count": 12,
   "metadata": {},
   "outputs": [
    {
     "data": {
      "text/plain": [
       "[array([0., 0., 0., 0., 0.]),\n",
       " array([1., 1., 1., 1., 1.]),\n",
       " array([0.06526006, 0.45899169, 0.84611527, 0.41968077, 0.37961491])]"
      ]
     },
     "execution_count": 12,
     "metadata": {},
     "output_type": "execute_result"
    }
   ],
   "source": [
    "# some common arrays\n",
    "\n",
    "# a) an array of all zeros\n",
    "\n",
    "zero = np.zeros(5)\n",
    "\n",
    "# b) an array of all ones\n",
    "\n",
    "ones = np.ones(5)\n",
    "\n",
    "# c) an identity array of size k where k = 5\n",
    "\n",
    "identity = np.eye(5)\n",
    "\n",
    "# d) an array of uniformly distributed random values\n",
    "rand = np.random.random(5)\n",
    "\n",
    "\n",
    "print(identity)\n",
    "\n",
    "[zero, ones ,rand]"
   ]
  },
  {
   "cell_type": "code",
   "execution_count": 15,
   "metadata": {},
   "outputs": [
    {
     "data": {
      "text/plain": [
       "array([[0, 0, 0, 0],\n",
       "       [0, 0, 0, 0],\n",
       "       [0, 0, 0, 0]])"
      ]
     },
     "execution_count": 15,
     "metadata": {},
     "output_type": "execute_result"
    }
   ],
   "source": [
    "#you can choose data type and dimensions as well\n",
    "\n",
    "zero2 = np.zeros((3,4) , dtype = int)\n",
    "zero2"
   ]
  },
  {
   "cell_type": "markdown",
   "metadata": {},
   "source": [
    "#### Useful array attributes\n",
    "Here we look at some useful array attributes.\n",
    "Don't forget to check http://www.numpy.org for more information.\n",
    "\n",
    "The first attributes are ndim (number of dimensions), shape, size, and dtype:\n"
   ]
  },
  {
   "cell_type": "code",
   "execution_count": 18,
   "metadata": {},
   "outputs": [
    {
     "name": "stdout",
     "output_type": "stream",
     "text": [
      "dimensions of a3 is:  3\n",
      "shape of a3 is:  (3, 4, 6)\n",
      "size of a3 is:  72\n",
      "type of a3 is:  int64\n"
     ]
    }
   ],
   "source": [
    "np.random.seed(0)  # seed for reproducibility   \n",
    "\n",
    "a1 = np.random.randint(10, size=6)  # One-dimensional array\n",
    "a2 = np.random.randint(10, size=(4, 5))  # Two-dimensional array   \n",
    "a3 = np.random.randint(10, size=(3, 4, 6))  # Three-dimensional array\n",
    "\n",
    "print(\"dimensions of a3 is: \", a3.ndim)\n",
    "print(\"shape of a3 is: \" , a3.shape)\n",
    "print(\"size of a3 is: \", a3.size)\n",
    "print(\"type of a3 is: \", a3.dtype)"
   ]
  },
  {
   "cell_type": "markdown",
   "metadata": {},
   "source": [
    "#### Array Indexing\n",
    "\n",
    " If you have a one-dimensional array, indexing is similar to regular Python lists.\n",
    " In a multidimensional array, you access items using a comma-separated tuple of indices."
   ]
  },
  {
   "cell_type": "code",
   "execution_count": 20,
   "metadata": {},
   "outputs": [
    {
     "name": "stdout",
     "output_type": "stream",
     "text": [
      "[[-0.42018339  0.99982969  0.43103415]\n",
      " [-0.65091287 -1.49874039 -1.23063497]\n",
      " [ 0.19400719 -0.99838235 -0.3676376 ]\n",
      " [ 1.73719932  0.59361275 -0.54236358]\n",
      " [-1.71967238 -0.57890879  1.42694855]]\n",
      "The second row:  [-0.65091287 -1.49874039 -1.23063497]\n",
      "The element at [3,1]: 0.5936127527039693\n"
     ]
    }
   ],
   "source": [
    "\n",
    "# randn: return a sample from the “standard normal” distribution\n",
    "arr_2d = np.random.randn(5,3)\n",
    "\n",
    "\n",
    "print(arr_2d)\n",
    "\n",
    "#A single index gets a full row\n",
    "print(\"The second row: \", arr_2d[1])\n",
    "\n",
    "#For accessing individual values use both indecies\n",
    "print(\"The element at [3,1]:\" , arr_2d[3,1])\n"
   ]
  },
  {
   "cell_type": "markdown",
   "metadata": {},
   "source": [
    "#### Universal Functions\n",
    "\n",
    "Computation on NumPy arrays can be very fast if we use vectorized operations.  \n",
    "These operations (generally known as  NumPy’s universal functions (ufuncs)) allow batch operations on data without any for loops. \n",
    "Any arithmetic operations between equal-size arrays applies the operation element-wise. "
   ]
  },
  {
   "cell_type": "code",
   "execution_count": 22,
   "metadata": {},
   "outputs": [
    {
     "name": "stdout",
     "output_type": "stream",
     "text": [
      "[ 0  1  4  9 16]\n",
      "[2 3 4 5 6]\n",
      "[ 0 -1 -2 -3 -4]\n"
     ]
    }
   ],
   "source": [
    "#Examples: \n",
    "\n",
    "array = np.arange(5)\n",
    "\n",
    "print(array**2)\n",
    "print(array+2)\n",
    "print(- array)\n",
    "\n"
   ]
  },
  {
   "cell_type": "markdown",
   "metadata": {},
   "source": [
    "#### Matrix Operations\n",
    "\n",
    "NumPy facilitates matrix operations. Just make sure the shapes are compatible\n",
    "The standard multiplication operator does elementwise multiplication and the _dot_ method provides the inner product."
   ]
  },
  {
   "cell_type": "code",
   "execution_count": 40,
   "metadata": {},
   "outputs": [
    {
     "name": "stdout",
     "output_type": "stream",
     "text": [
      "[[1 2 3]\n",
      " [4 5 6]\n",
      " [7 8 9]]\n",
      "[[11 12 13]\n",
      " [14 15 16]\n",
      " [17 18 19]]\n",
      "Add: [[12 14 16]\n",
      " [18 20 22]\n",
      " [24 26 28]]\n"
     ]
    }
   ],
   "source": [
    "\n",
    "grid = np.arange(1, 10).reshape((3, 3))\n",
    "print(grid)\n",
    "\n",
    "grid2 = np.arange(11,20).reshape((3,3))\n",
    "print(grid2)\n",
    "\n",
    "\n",
    "print(\"Add:\" , grid+grid2)\n",
    "\n"
   ]
  },
  {
   "cell_type": "code",
   "execution_count": 41,
   "metadata": {},
   "outputs": [
    {
     "name": "stdout",
     "output_type": "stream",
     "text": [
      "[[1 4 7]\n",
      " [2 5 8]\n",
      " [3 6 9]]\n"
     ]
    }
   ],
   "source": [
    "# You can also find the transpose of a matrix\n",
    "\n",
    "gridT = grid.T\n",
    "print(gridT)"
   ]
  },
  {
   "cell_type": "code",
   "execution_count": 43,
   "metadata": {},
   "outputs": [
    {
     "name": "stdout",
     "output_type": "stream",
     "text": [
      "Using standard multiplication operator: \n",
      "[[ 11  24  39]\n",
      " [ 56  75  96]\n",
      " [119 144 171]]\n",
      "Using dot operator: \n",
      "[[ 74  92 110]\n",
      " [182 227 272]\n",
      " [290 362 434]]\n"
     ]
    }
   ],
   "source": [
    "# Matrix Multiplication\n",
    "\n",
    "print(\"Using standard multiplication operator: \" )\n",
    "print(grid*grid2)\n",
    "\n",
    "print(\"Using dot operator: \")\n",
    "print(grid.dot(grid2.T))"
   ]
  },
  {
   "cell_type": "markdown",
   "metadata": {},
   "source": [
    "Numpy modules are significantly faster than Python modules. Whenever you can, use NumPy function for calculations as they are much faster. \n",
    "NumPy has fast built-in aggregation functions for working on arrays. They are particularly useful in computing summary statistics.\n",
    "\n",
    "\n",
    "![title](img/agg.png)"
   ]
  },
  {
   "cell_type": "code",
   "execution_count": 44,
   "metadata": {},
   "outputs": [
    {
     "name": "stdout",
     "output_type": "stream",
     "text": [
      "65.4 ms ± 697 µs per loop (mean ± std. dev. of 7 runs, 10 loops each)\n",
      "341 µs ± 5.85 µs per loop (mean ± std. dev. of 7 runs, 1000 loops each)\n"
     ]
    }
   ],
   "source": [
    "big_array = np.random.rand(1000000)\n",
    "%timeit sum(big_array)\n",
    "%timeit np.sum(big_array)"
   ]
  },
  {
   "cell_type": "markdown",
   "metadata": {},
   "source": [
    "#### Multidimensional  aggregate\n",
    "\n",
    "The default option applies the aggregation function on the entire array. But, you can aggregate along a row or column by specifying the proper axis. \n",
    "The axis keyword can be given to the aggregation function as a parameter and it will collapse the corresponding dimension. So specifying axis=0 means that the first\n",
    "axis will be collapsed: for a 2-dimensional arrays, this means that values within each\n",
    "column will be aggregated. \n"
   ]
  },
  {
   "cell_type": "code",
   "execution_count": 49,
   "metadata": {},
   "outputs": [
    {
     "data": {
      "text/plain": [
       "array([[0.18848218, 0.36402392, 0.66008906, 0.74667817],\n",
       "       [0.0534757 , 0.90424808, 0.91822802, 0.54774195],\n",
       "       [0.4437489 , 0.4001331 , 0.88743974, 0.49971592],\n",
       "       [0.54092482, 0.92154715, 0.3452127 , 0.34641165],\n",
       "       [0.61873058, 0.66986327, 0.58516602, 0.00616579]])"
      ]
     },
     "execution_count": 49,
     "metadata": {},
     "output_type": "execute_result"
    }
   ],
   "source": [
    "M = np.random.random((5,4))\n",
    "M"
   ]
  },
  {
   "cell_type": "code",
   "execution_count": 52,
   "metadata": {},
   "outputs": [
    {
     "name": "stdout",
     "output_type": "stream",
     "text": [
      "0.9215471450238449\n",
      "[0.61873058 0.92154715 0.91822802 0.74667817]\n",
      "[0.74667817 0.91822802 0.88743974 0.92154715 0.66986327]\n"
     ]
    }
   ],
   "source": [
    "print(M.max())\n",
    "print(M.max(axis=0))\n",
    "print(M.max(axis=1))"
   ]
  },
  {
   "cell_type": "markdown",
   "metadata": {},
   "source": [
    "## Exercises\n",
    "\n",
    "Now it's your turn to do some practice with NumPy:\n",
    "\n",
    "#### 1. Create a 1-dimensional NumPy array of 100 random integers\n",
    "\n",
    "1.  Find and print all the summary statistics (mean, std, median, max, min, ...)\n",
    "2.  Compare the time for finding the max using python built-in functions and NumPy corresponding function\n",
    "3. Create a new array that is the base-2 logarithm of your array"
   ]
  },
  {
   "cell_type": "code",
   "execution_count": null,
   "metadata": {},
   "outputs": [],
   "source": [
    "# Your code here"
   ]
  },
  {
   "cell_type": "markdown",
   "metadata": {},
   "source": [
    "#### 2. Create a 2-dimensional NumPy array of (3,4) random integers (mat1)\n",
    "\n",
    "1. Create another 2-D array that is the square root of your original array (mat2)\n",
    "2. Find how many values are greater than 20 using np.count_nonzero(  ) function ( you can also use np.sum( )\n",
    "3. Perform a dot product between two 2-D arrays (mat3)\n",
    "4. Find all the values that are less than 10 and greater than 30 in mat3"
   ]
  },
  {
   "cell_type": "code",
   "execution_count": null,
   "metadata": {},
   "outputs": [],
   "source": [
    "#Your Code here"
   ]
  },
  {
   "cell_type": "code",
   "execution_count": null,
   "metadata": {},
   "outputs": [],
   "source": []
  },
  {
   "cell_type": "code",
   "execution_count": null,
   "metadata": {},
   "outputs": [],
   "source": []
  }
 ],
 "metadata": {
  "kernelspec": {
   "display_name": "Python 3",
   "language": "python",
   "name": "python3"
  },
  "language_info": {
   "codemirror_mode": {
    "name": "ipython",
    "version": 3
   },
   "file_extension": ".py",
   "mimetype": "text/x-python",
   "name": "python",
   "nbconvert_exporter": "python",
   "pygments_lexer": "ipython3",
   "version": "3.7.6"
  }
 },
 "nbformat": 4,
 "nbformat_minor": 2
}
