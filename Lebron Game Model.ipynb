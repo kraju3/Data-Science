{
 "cells": [
  {
   "cell_type": "code",
   "execution_count": 3,
   "metadata": {},
   "outputs": [],
   "source": [
    "from  bs4 import BeautifulSoup\n",
    "import pandas as pd\n",
    "import requests\n"
   ]
  },
  {
   "cell_type": "code",
   "execution_count": 43,
   "metadata": {},
   "outputs": [
    {
     "data": {
      "text/plain": [
       "['G',\n",
       " 'Date',\n",
       " 'Age',\n",
       " 'Tm',\n",
       " '',\n",
       " 'Opp',\n",
       " '',\n",
       " 'GS',\n",
       " 'MP',\n",
       " 'FG',\n",
       " 'FGA',\n",
       " 'FG%',\n",
       " '3P',\n",
       " '3PA',\n",
       " '3P%',\n",
       " 'FT',\n",
       " 'FTA',\n",
       " 'FT%',\n",
       " 'ORB',\n",
       " 'DRB',\n",
       " 'TRB',\n",
       " 'AST',\n",
       " 'STL',\n",
       " 'BLK',\n",
       " 'TOV',\n",
       " 'PF',\n",
       " 'PTS',\n",
       " 'GmSc',\n",
       " '+/-']"
      ]
     },
     "execution_count": 43,
     "metadata": {},
     "output_type": "execute_result"
    }
   ],
   "source": [
    "urls = ['https://www.basketball-reference.com/players/j/jamesle01/gamelog/2004/','https://www.basketball-reference.com/players/j/jamesle01/gamelog/2005/'\n",
    "       ,'https://www.basketball-reference.com/players/j/jamesle01/gamelog/2006/','https://www.basketball-reference.com/players/j/jamesle01/gamelog/2007/'\n",
    "       , 'https://www.basketball-reference.com/players/j/jamesle01/gamelog/2008/','https://www.basketball-reference.com/players/j/jamesle01/gamelog/2009/',\n",
    "       'https://www.basketball-reference.com/players/j/jamesle01/gamelog/2010/','https://www.basketball-reference.com/players/j/jamesle01/gamelog/2011/',\n",
    "       'https://www.basketball-reference.com/players/j/jamesle01/gamelog/2012/','https://www.basketball-reference.com/players/j/jamesle01/gamelog/2013/',\n",
    "       'https://www.basketball-reference.com/players/j/jamesle01/gamelog/2014/','https://www.basketball-reference.com/players/j/jamesle01/gamelog/2015/',\n",
    "       'https://www.basketball-reference.com/players/j/jamesle01/gamelog/2016/','https://www.basketball-reference.com/players/j/jamesle01/gamelog/2017/',\n",
    "       'https://www.basketball-reference.com/players/j/jamesle01/gamelog/2018/','https://www.basketball-reference.com/players/j/jamesle01/gamelog/2019/']\n",
    "\n",
    "tables = soup.find_all('table',id ='pgl_basic')\n",
    "\n",
    "headers = tables[0].find('thead')\n",
    "\n",
    "tableHeaders = []\n",
    "\n",
    "for th in headers.find_all('th'):\n",
    "    if th.text.strip() == 'Rk':\n",
    "        continue\n",
    "    tableHeaders.append(th.text.strip())\n",
    "tableHeaders"
   ]
  },
  {
   "cell_type": "code",
   "execution_count": 36,
   "metadata": {},
   "outputs": [],
   "source": [
    "def createLebronFrame (url):\n",
    "    results = requests.get(url)\n",
    "\n",
    "    soup = BeautifulSoup(results.content,'html.parser')\n",
    "\n",
    "\n",
    "    tables = soup.find_all('table',id ='pgl_basic')\n",
    "    \n",
    "\n",
    "    rows = tables[0].find('tbody').find_all('tr')\n",
    "\n",
    "    gameStats = []\n",
    "\n",
    "    for row in rows:\n",
    "        stats = []\n",
    "        for game in row.find_all('td'):\n",
    "            stats.append(game.text.strip())\n",
    "        gameStats.append(stats)\n",
    "\n",
    "    cleanStats = []\n",
    "\n",
    "    for indx,game in enumerate(gameStats):\n",
    "        if len(game) == 0 or len(game)< 11:\n",
    "            continue;\n",
    "        cleanStats.append(game)\n",
    "\n",
    "    return cleanStats\n",
    "    \n",
    "\n",
    "    "
   ]
  },
  {
   "cell_type": "code",
   "execution_count": 44,
   "metadata": {},
   "outputs": [
    {
     "data": {
      "text/plain": [
       "16"
      ]
     },
     "execution_count": 44,
     "metadata": {},
     "output_type": "execute_result"
    }
   ],
   "source": [
    "gameStat2003_2013 = []\n",
    "for url in urls:\n",
    "    gameStat2003_2013.append(createLebronFrame(url))\n",
    "    \n",
    "\n",
    "len(gameStat2003_2013)\n",
    "\n",
    "    "
   ]
  },
  {
   "cell_type": "code",
   "execution_count": 100,
   "metadata": {},
   "outputs": [
    {
     "name": "stdout",
     "output_type": "stream",
     "text": [
      "<class 'pandas.core.frame.DataFrame'>\n",
      "Int64Index: 1198 entries, 0 to 54\n",
      "Data columns (total 29 columns):\n",
      "G       1198 non-null object\n",
      "Date    1198 non-null object\n",
      "Age     1198 non-null object\n",
      "Tm      1198 non-null object\n",
      "        1198 non-null object\n",
      "Opp     1198 non-null object\n",
      "        1198 non-null object\n",
      "GS      1198 non-null object\n",
      "MP      1198 non-null object\n",
      "FG      1198 non-null object\n",
      "FGA     1198 non-null object\n",
      "FG%     1198 non-null object\n",
      "3P      1198 non-null object\n",
      "3PA     1198 non-null object\n",
      "3P%     1198 non-null object\n",
      "FT      1198 non-null object\n",
      "FTA     1198 non-null object\n",
      "FT%     1198 non-null object\n",
      "ORB     1198 non-null object\n",
      "DRB     1198 non-null object\n",
      "TRB     1198 non-null object\n",
      "AST     1198 non-null object\n",
      "STL     1198 non-null object\n",
      "BLK     1198 non-null object\n",
      "TOV     1198 non-null object\n",
      "PF      1198 non-null object\n",
      "PTS     1198 non-null object\n",
      "GmSc    1198 non-null object\n",
      "+/-     1198 non-null object\n",
      "dtypes: object(29)\n",
      "memory usage: 280.8+ KB\n"
     ]
    }
   ],
   "source": [
    "dfs = []\n",
    "for season in gameStat2003_2013:\n",
    "    dfs.append(pd.DataFrame(season,columns = tableHeaders))\n",
    "\n",
    "\n",
    "Lebron_Df = pd.concat(dfs)\n",
    "\n",
    "Lebron_Df.info()"
   ]
  },
  {
   "cell_type": "code",
   "execution_count": 101,
   "metadata": {},
   "outputs": [],
   "source": [
    "Lebron_Df.columns.values[4] = 'Location'\n",
    "Lebron_Df.columns.values[6] = 'Margin'"
   ]
  },
  {
   "cell_type": "code",
   "execution_count": 102,
   "metadata": {},
   "outputs": [
    {
     "name": "stdout",
     "output_type": "stream",
     "text": [
      "<class 'pandas.core.frame.DataFrame'>\n",
      "Int64Index: 1198 entries, 0 to 54\n",
      "Data columns (total 29 columns):\n",
      "G           1198 non-null object\n",
      "Date        1198 non-null object\n",
      "Age         1198 non-null object\n",
      "Tm          1198 non-null object\n",
      "Location    1198 non-null object\n",
      "Opp         1198 non-null object\n",
      "Margin      1198 non-null object\n",
      "GS          1198 non-null object\n",
      "MP          1198 non-null object\n",
      "FG          1198 non-null object\n",
      "FGA         1198 non-null object\n",
      "FG%         1198 non-null object\n",
      "3P          1198 non-null object\n",
      "3PA         1198 non-null object\n",
      "3P%         1198 non-null object\n",
      "FT          1198 non-null object\n",
      "FTA         1198 non-null object\n",
      "FT%         1198 non-null object\n",
      "ORB         1198 non-null object\n",
      "DRB         1198 non-null object\n",
      "TRB         1198 non-null object\n",
      "AST         1198 non-null object\n",
      "STL         1198 non-null object\n",
      "BLK         1198 non-null object\n",
      "TOV         1198 non-null object\n",
      "PF          1198 non-null object\n",
      "PTS         1198 non-null object\n",
      "GmSc        1198 non-null object\n",
      "+/-         1198 non-null object\n",
      "dtypes: object(29)\n",
      "memory usage: 280.8+ KB\n"
     ]
    }
   ],
   "source": [
    "Lebron_Df.info()"
   ]
  },
  {
   "cell_type": "code",
   "execution_count": 103,
   "metadata": {},
   "outputs": [],
   "source": [
    "\n",
    "#formating the dataframe\n",
    "\n",
    "Lebron_Df['Location']=Lebron_Df['Location'].apply(lambda row: 'H' if row == '' else '@')\n",
    "Lebron_Df['Age']=Lebron_Df['Age'].apply(lambda row: row.split('-')[0])\n",
    "Lebron_Df['Date']=pd.to_datetime(Lebron_Df['Date'], format=\"%Y-%m-%d\")\n",
    "Lebron_Df['+/-'] = Lebron_Df['+/-'].str.replace(\"+\",\"\")\n",
    "Lebron_Df['FG%'] = Lebron_Df['FG%'].str.replace(\"%\",\"\")\n",
    "Lebron_Df['3P%'] = Lebron_Df['3P%'].str.replace(\"%\",\"\")\n",
    "Lebron_Df['FT%'] =Lebron_Df['FT%'].str.replace(\"%\",\"\")\n",
    "\n",
    "#Lebron_Df['MP']=Lebron_Df['MP'].apply(lambda row: row.split(':')[0])\n",
    "\n",
    "Lebron_Df= Lebron_Df.astype({'G': 'int32','FG': 'int32','MP':'int32','GmSc':'float64','+/-':'int32','MP':'int32',\n",
    " 'FGA': 'int32',\n",
    " 'FG%':'float64',\n",
    " '3P': 'int32',\n",
    " '3PA': 'int32',\n",
    " '3P%':'float64',\n",
    " 'FT': 'int32',\n",
    " 'FTA': 'int32',\n",
    " 'FT%':'float64',\n",
    " 'ORB': 'int32',\n",
    " 'DRB': 'int32',\n",
    " 'TRB': 'int32',\n",
    " 'AST': 'int32',\n",
    " 'STL': 'int32',\n",
    " 'BLK': 'int32',\n",
    " 'TOV': 'int32',\n",
    " 'PF': 'int32',\n",
    " 'PTS': 'int32'},errors='ignore')"
   ]
  },
  {
   "cell_type": "code",
   "execution_count": 104,
   "metadata": {},
   "outputs": [
    {
     "data": {
      "text/plain": [
       "G                    int32\n",
       "Date        datetime64[ns]\n",
       "Age                 object\n",
       "Tm                  object\n",
       "Location            object\n",
       "Opp                 object\n",
       "Margin              object\n",
       "GS                  object\n",
       "MP                  object\n",
       "FG                   int32\n",
       "FGA                  int32\n",
       "FG%                float64\n",
       "3P                   int32\n",
       "3PA                  int32\n",
       "3P%                 object\n",
       "FT                   int32\n",
       "FTA                  int32\n",
       "FT%                 object\n",
       "ORB                  int32\n",
       "DRB                  int32\n",
       "TRB                  int32\n",
       "AST                  int32\n",
       "STL                  int32\n",
       "BLK                  int32\n",
       "TOV                  int32\n",
       "PF                   int32\n",
       "PTS                  int32\n",
       "GmSc               float64\n",
       "+/-                  int32\n",
       "dtype: object"
      ]
     },
     "execution_count": 104,
     "metadata": {},
     "output_type": "execute_result"
    }
   ],
   "source": [
    "Lebron_Df.dtypes"
   ]
  },
  {
   "cell_type": "code",
   "execution_count": 94,
   "metadata": {},
   "outputs": [
    {
     "data": {
      "text/plain": [
       "G                   object\n",
       "Date        datetime64[ns]\n",
       "Age                 object\n",
       "Tm                  object\n",
       "Location            object\n",
       "Opp                 object\n",
       "Margin              object\n",
       "GS                  object\n",
       "MP                  object\n",
       "FG                  object\n",
       "FGA                 object\n",
       "FG%                 object\n",
       "3P                  object\n",
       "3PA                 object\n",
       "3P%                 object\n",
       "FT                  object\n",
       "FTA                 object\n",
       "FT%                 object\n",
       "ORB                 object\n",
       "DRB                 object\n",
       "TRB                 object\n",
       "AST                 object\n",
       "STL                 object\n",
       "BLK                 object\n",
       "TOV                 object\n",
       "PF                  object\n",
       "PTS                 object\n",
       "GmSc                object\n",
       "+/-                 object\n",
       "dtype: object"
      ]
     },
     "execution_count": 94,
     "metadata": {},
     "output_type": "execute_result"
    }
   ],
   "source": [
    "\n",
    "Lebron_Df.to_csv('Lebron Stats')"
   ]
  },
  {
   "cell_type": "code",
   "execution_count": 93,
   "metadata": {},
   "outputs": [
    {
     "data": {
      "text/plain": [
       "G                   object\n",
       "Date        datetime64[ns]\n",
       "Age                 object\n",
       "Tm                  object\n",
       "Location            object\n",
       "Opp                 object\n",
       "Margin              object\n",
       "GS                  object\n",
       "MP                  object\n",
       "FG                  object\n",
       "FGA                 object\n",
       "FG%                 object\n",
       "3P                  object\n",
       "3PA                 object\n",
       "3P%                 object\n",
       "FT                  object\n",
       "FTA                 object\n",
       "FT%                 object\n",
       "ORB                 object\n",
       "DRB                 object\n",
       "TRB                 object\n",
       "AST                 object\n",
       "STL                 object\n",
       "BLK                 object\n",
       "TOV                 object\n",
       "PF                  object\n",
       "PTS                 object\n",
       "GmSc                object\n",
       "+/-                 object\n",
       "dtype: object"
      ]
     },
     "execution_count": 93,
     "metadata": {},
     "output_type": "execute_result"
    }
   ],
   "source": []
  }
 ],
 "metadata": {
  "kernelspec": {
   "display_name": "Python 3",
   "language": "python",
   "name": "python3"
  },
  "language_info": {
   "codemirror_mode": {
    "name": "ipython",
    "version": 3
   },
   "file_extension": ".py",
   "mimetype": "text/x-python",
   "name": "python",
   "nbconvert_exporter": "python",
   "pygments_lexer": "ipython3",
   "version": "3.7.6"
  }
 },
 "nbformat": 4,
 "nbformat_minor": 2
}
